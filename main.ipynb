{
 "cells": [
  {
   "cell_type": "markdown",
   "metadata": {},
   "source": [
    "## Netflix EDA, Recommendation \n",
    "\n",
    "- 데이터의 선택 이유\n",
    "    - 텍스트 데이터의 전처리와 시각화를 경험해보기 위함.\n",
    "- 진행 방향\n",
    "    - 데이터 특징 파악 및 다양한 시각화를 이용한 EDA 진행\n",
    "    - (가능하다면) IMDB 데이터셋을 Join해서 추가 변수를 불러와 활용해보기.\n",
    "    - 간단한 NLP(Natural Langurage Processing) Analysis을 진행하고, cosine similarity를 이용한 추천 모델 제작해보기.\n",
    "- 실행 계획\n",
    "    - 1) 간단한 Data Exploration\n",
    "    - 2) IMDB 데이터 Join해서 결측값 채우기 및 추가 변수 활용 (`imdb movies.csv`-영화 평점)\n",
    "    - 3) Content-Based Recommendation 모델\n",
    "        - TF-IDF matrix, cosine similarity\n",
    "- 데이터 Reference\n",
    "    - 1) Netflix Movies and TV Shows(https://www.kaggle.com/datasets/shivamb/netflix-shows)\n",
    "    - 2) IMDB Movies Dataset(https://www.kaggle.com/datasets/mirajshah07/netflix-dataset\n",
    "        - IMDB(https://www.imdb.com/)-> 영화/드라마 리뷰 및 정보 사이트\n",
    "        - Netflix 데이터셋에는 없는 평점 데이터와 결측값을 처리하는 데에 사용하기 위한 추가 데이터입니다."
   ]
  },
  {
   "cell_type": "code",
   "execution_count": 1,
   "metadata": {},
   "outputs": [],
   "source": [
    "# import packages (python 3.10)\n",
    "import pandas as pd\n",
    "import numpy as np\n",
    "import seaborn as sns\n",
    "import plotly.express as px\n",
    "import matplotlib.pyplot as plt\n",
    "\n",
    "# Reference: https://www.kaggle.com/code/niharika41298/netflix-visualizations-recommendation-eda/notebook"
   ]
  },
  {
   "cell_type": "code",
   "execution_count": 2,
   "metadata": {},
   "outputs": [
    {
     "data": {
      "text/html": [
       "<div>\n",
       "<style scoped>\n",
       "    .dataframe tbody tr th:only-of-type {\n",
       "        vertical-align: middle;\n",
       "    }\n",
       "\n",
       "    .dataframe tbody tr th {\n",
       "        vertical-align: top;\n",
       "    }\n",
       "\n",
       "    .dataframe thead th {\n",
       "        text-align: right;\n",
       "    }\n",
       "</style>\n",
       "<table border=\"1\" class=\"dataframe\">\n",
       "  <thead>\n",
       "    <tr style=\"text-align: right;\">\n",
       "      <th></th>\n",
       "      <th>show_id</th>\n",
       "      <th>type</th>\n",
       "      <th>title</th>\n",
       "      <th>director</th>\n",
       "      <th>cast</th>\n",
       "      <th>country</th>\n",
       "      <th>date_added</th>\n",
       "      <th>release_year</th>\n",
       "      <th>rating</th>\n",
       "      <th>duration</th>\n",
       "      <th>listed_in</th>\n",
       "      <th>description</th>\n",
       "    </tr>\n",
       "  </thead>\n",
       "  <tbody>\n",
       "    <tr>\n",
       "      <th>0</th>\n",
       "      <td>s1</td>\n",
       "      <td>Movie</td>\n",
       "      <td>Dick Johnson Is Dead</td>\n",
       "      <td>Kirsten Johnson</td>\n",
       "      <td>NaN</td>\n",
       "      <td>United States</td>\n",
       "      <td>September 25, 2021</td>\n",
       "      <td>2020</td>\n",
       "      <td>PG-13</td>\n",
       "      <td>90 min</td>\n",
       "      <td>Documentaries</td>\n",
       "      <td>As her father nears the end of his life, filmm...</td>\n",
       "    </tr>\n",
       "    <tr>\n",
       "      <th>1</th>\n",
       "      <td>s2</td>\n",
       "      <td>TV Show</td>\n",
       "      <td>Blood &amp; Water</td>\n",
       "      <td>NaN</td>\n",
       "      <td>Ama Qamata, Khosi Ngema, Gail Mabalane, Thaban...</td>\n",
       "      <td>South Africa</td>\n",
       "      <td>September 24, 2021</td>\n",
       "      <td>2021</td>\n",
       "      <td>TV-MA</td>\n",
       "      <td>2 Seasons</td>\n",
       "      <td>International TV Shows, TV Dramas, TV Mysteries</td>\n",
       "      <td>After crossing paths at a party, a Cape Town t...</td>\n",
       "    </tr>\n",
       "    <tr>\n",
       "      <th>2</th>\n",
       "      <td>s3</td>\n",
       "      <td>TV Show</td>\n",
       "      <td>Ganglands</td>\n",
       "      <td>Julien Leclercq</td>\n",
       "      <td>Sami Bouajila, Tracy Gotoas, Samuel Jouy, Nabi...</td>\n",
       "      <td>NaN</td>\n",
       "      <td>September 24, 2021</td>\n",
       "      <td>2021</td>\n",
       "      <td>TV-MA</td>\n",
       "      <td>1 Season</td>\n",
       "      <td>Crime TV Shows, International TV Shows, TV Act...</td>\n",
       "      <td>To protect his family from a powerful drug lor...</td>\n",
       "    </tr>\n",
       "  </tbody>\n",
       "</table>\n",
       "</div>"
      ],
      "text/plain": [
       "  show_id     type                 title         director  \\\n",
       "0      s1    Movie  Dick Johnson Is Dead  Kirsten Johnson   \n",
       "1      s2  TV Show         Blood & Water              NaN   \n",
       "2      s3  TV Show             Ganglands  Julien Leclercq   \n",
       "\n",
       "                                                cast        country  \\\n",
       "0                                                NaN  United States   \n",
       "1  Ama Qamata, Khosi Ngema, Gail Mabalane, Thaban...   South Africa   \n",
       "2  Sami Bouajila, Tracy Gotoas, Samuel Jouy, Nabi...            NaN   \n",
       "\n",
       "           date_added  release_year rating   duration  \\\n",
       "0  September 25, 2021          2020  PG-13     90 min   \n",
       "1  September 24, 2021          2021  TV-MA  2 Seasons   \n",
       "2  September 24, 2021          2021  TV-MA   1 Season   \n",
       "\n",
       "                                           listed_in  \\\n",
       "0                                      Documentaries   \n",
       "1    International TV Shows, TV Dramas, TV Mysteries   \n",
       "2  Crime TV Shows, International TV Shows, TV Act...   \n",
       "\n",
       "                                         description  \n",
       "0  As her father nears the end of his life, filmm...  \n",
       "1  After crossing paths at a party, a Cape Town t...  \n",
       "2  To protect his family from a powerful drug lor...  "
      ]
     },
     "execution_count": 2,
     "metadata": {},
     "output_type": "execute_result"
    }
   ],
   "source": [
    "# load dataset\n",
    "netflix_df = pd.read_csv(\"./dataset/netflix_titles.csv\")\n",
    "netflix_df.head(3)"
   ]
  },
  {
   "cell_type": "markdown",
   "metadata": {},
   "source": [
    "### Data Exploration"
   ]
  },
  {
   "cell_type": "code",
   "execution_count": 3,
   "metadata": {},
   "outputs": [
    {
     "name": "stdout",
     "output_type": "stream",
     "text": [
      "<class 'pandas.core.frame.DataFrame'>\n",
      "RangeIndex: 8807 entries, 0 to 8806\n",
      "Data columns (total 12 columns):\n",
      " #   Column        Non-Null Count  Dtype \n",
      "---  ------        --------------  ----- \n",
      " 0   show_id       8807 non-null   object\n",
      " 1   type          8807 non-null   object\n",
      " 2   title         8807 non-null   object\n",
      " 3   director      6173 non-null   object\n",
      " 4   cast          7982 non-null   object\n",
      " 5   country       7976 non-null   object\n",
      " 6   date_added    8797 non-null   object\n",
      " 7   release_year  8807 non-null   int64 \n",
      " 8   rating        8803 non-null   object\n",
      " 9   duration      8804 non-null   object\n",
      " 10  listed_in     8807 non-null   object\n",
      " 11  description   8807 non-null   object\n",
      "dtypes: int64(1), object(11)\n",
      "memory usage: 825.8+ KB\n"
     ]
    }
   ],
   "source": [
    "# Check types and non-null count for each columns \n",
    "netflix_df.info()"
   ]
  },
  {
   "cell_type": "code",
   "execution_count": 4,
   "metadata": {},
   "outputs": [
    {
     "data": {
      "text/plain": [
       "Movie      6131\n",
       "TV Show    2676\n",
       "Name: type, dtype: int64"
      ]
     },
     "execution_count": 4,
     "metadata": {},
     "output_type": "execute_result"
    }
   ],
   "source": [
    "# Determine unique values for 'type' column\n",
    "netflix_df[\"type\"].value_counts() # value_counts: pd.Series에서 고유한 값들의 각 개수를 알려준다. "
   ]
  },
  {
   "cell_type": "code",
   "execution_count": 6,
   "metadata": {},
   "outputs": [
    {
     "data": {
      "text/plain": [
       "TV-MA       3207\n",
       "TV-14       2160\n",
       "TV-PG        863\n",
       "R            799\n",
       "PG-13        490\n",
       "TV-Y7        334\n",
       "TV-Y         307\n",
       "PG           287\n",
       "TV-G         220\n",
       "NR            80\n",
       "G             41\n",
       "TV-Y7-FV       6\n",
       "NC-17          3\n",
       "UR             3\n",
       "74 min         1\n",
       "84 min         1\n",
       "66 min         1\n",
       "Name: rating, dtype: int64"
      ]
     },
     "execution_count": 6,
     "metadata": {},
     "output_type": "execute_result"
    }
   ],
   "source": [
    "# Determine unique values for 'rating' column\n",
    "netflix_df[\"rating\"].value_counts()"
   ]
  },
  {
   "cell_type": "code",
   "execution_count": 7,
   "metadata": {},
   "outputs": [
    {
     "name": "stdout",
     "output_type": "stream",
     "text": [
      "1925 ~ 2021\n"
     ]
    }
   ],
   "source": [
    "# Check earliest and latest release_year\n",
    "print(netflix_df[\"release_year\"].min(), \"~\", netflix_df[\"release_year\"].max())"
   ]
  },
  {
   "cell_type": "markdown",
   "metadata": {},
   "source": [
    "### Add IMDB data to get ratings and deal with missing values\n",
    "- 평점을 얻어오기 위해 IMDB movies 데이터셋을 추가해서 사용합니다. (Inner Join)\n",
    "- title(original_title)로 동일한 영화를 매치해서 Netflix 데이터셋에 있는 결측값을 처리하는데 이용합니다."
   ]
  },
  {
   "cell_type": "code",
   "execution_count": 5,
   "metadata": {},
   "outputs": [
    {
     "name": "stderr",
     "output_type": "stream",
     "text": [
      "C:\\Users\\PC\\AppData\\Local\\Temp\\ipykernel_60640\\952706796.py:2: DtypeWarning: Columns (3) have mixed types. Specify dtype option on import or set low_memory=False.\n",
      "  imdb_titles = pd.read_csv(\"./dataset/IMDB movies.csv\")\n"
     ]
    }
   ],
   "source": [
    "# Load IMDB dataset (https://www.kaggle.com/datasets/mirajshah07/netflix-dataset?rvi=1)\n",
    "imdb_titles = pd.read_csv(\"./dataset/IMDB movies.csv\")"
   ]
  },
  {
   "cell_type": "code",
   "execution_count": 6,
   "metadata": {},
   "outputs": [
    {
     "data": {
      "text/html": [
       "<div>\n",
       "<style scoped>\n",
       "    .dataframe tbody tr th:only-of-type {\n",
       "        vertical-align: middle;\n",
       "    }\n",
       "\n",
       "    .dataframe tbody tr th {\n",
       "        vertical-align: top;\n",
       "    }\n",
       "\n",
       "    .dataframe thead th {\n",
       "        text-align: right;\n",
       "    }\n",
       "</style>\n",
       "<table border=\"1\" class=\"dataframe\">\n",
       "  <thead>\n",
       "    <tr style=\"text-align: right;\">\n",
       "      <th></th>\n",
       "      <th>imdb_title_id</th>\n",
       "      <th>title</th>\n",
       "      <th>original_title</th>\n",
       "      <th>year</th>\n",
       "      <th>date_published</th>\n",
       "      <th>genre</th>\n",
       "      <th>duration</th>\n",
       "      <th>country</th>\n",
       "      <th>language</th>\n",
       "      <th>director</th>\n",
       "      <th>...</th>\n",
       "      <th>actors</th>\n",
       "      <th>description</th>\n",
       "      <th>avg_vote</th>\n",
       "      <th>votes</th>\n",
       "      <th>budget</th>\n",
       "      <th>usa_gross_income</th>\n",
       "      <th>worlwide_gross_income</th>\n",
       "      <th>metascore</th>\n",
       "      <th>reviews_from_users</th>\n",
       "      <th>reviews_from_critics</th>\n",
       "    </tr>\n",
       "  </thead>\n",
       "  <tbody>\n",
       "    <tr>\n",
       "      <th>0</th>\n",
       "      <td>tt0000009</td>\n",
       "      <td>Miss Jerry</td>\n",
       "      <td>Miss Jerry</td>\n",
       "      <td>1894</td>\n",
       "      <td>1894-10-09</td>\n",
       "      <td>Romance</td>\n",
       "      <td>45</td>\n",
       "      <td>USA</td>\n",
       "      <td>None</td>\n",
       "      <td>Alexander Black</td>\n",
       "      <td>...</td>\n",
       "      <td>Blanche Bayliss, William Courtenay, Chauncey D...</td>\n",
       "      <td>The adventures of a female reporter in the 1890s.</td>\n",
       "      <td>5.9</td>\n",
       "      <td>154</td>\n",
       "      <td>NaN</td>\n",
       "      <td>NaN</td>\n",
       "      <td>NaN</td>\n",
       "      <td>NaN</td>\n",
       "      <td>1.0</td>\n",
       "      <td>2.0</td>\n",
       "    </tr>\n",
       "    <tr>\n",
       "      <th>1</th>\n",
       "      <td>tt0000574</td>\n",
       "      <td>The Story of the Kelly Gang</td>\n",
       "      <td>The Story of the Kelly Gang</td>\n",
       "      <td>1906</td>\n",
       "      <td>26-12-1906</td>\n",
       "      <td>Biography, Crime, Drama</td>\n",
       "      <td>70</td>\n",
       "      <td>Australia</td>\n",
       "      <td>None</td>\n",
       "      <td>Charles Tait</td>\n",
       "      <td>...</td>\n",
       "      <td>Elizabeth Tait, John Tait, Norman Campbell, Be...</td>\n",
       "      <td>True story of notorious Australian outlaw Ned ...</td>\n",
       "      <td>6.1</td>\n",
       "      <td>589</td>\n",
       "      <td>$ 2250</td>\n",
       "      <td>NaN</td>\n",
       "      <td>NaN</td>\n",
       "      <td>NaN</td>\n",
       "      <td>7.0</td>\n",
       "      <td>7.0</td>\n",
       "    </tr>\n",
       "    <tr>\n",
       "      <th>2</th>\n",
       "      <td>tt0001892</td>\n",
       "      <td>Den sorte drøm</td>\n",
       "      <td>Den sorte drøm</td>\n",
       "      <td>1911</td>\n",
       "      <td>19-08-1911</td>\n",
       "      <td>Drama</td>\n",
       "      <td>53</td>\n",
       "      <td>Germany, Denmark</td>\n",
       "      <td>NaN</td>\n",
       "      <td>Urban Gad</td>\n",
       "      <td>...</td>\n",
       "      <td>Asta Nielsen, Valdemar Psilander, Gunnar Helse...</td>\n",
       "      <td>Two men of high rank are both wooing the beaut...</td>\n",
       "      <td>5.8</td>\n",
       "      <td>188</td>\n",
       "      <td>NaN</td>\n",
       "      <td>NaN</td>\n",
       "      <td>NaN</td>\n",
       "      <td>NaN</td>\n",
       "      <td>5.0</td>\n",
       "      <td>2.0</td>\n",
       "    </tr>\n",
       "  </tbody>\n",
       "</table>\n",
       "<p>3 rows × 22 columns</p>\n",
       "</div>"
      ],
      "text/plain": [
       "  imdb_title_id                        title               original_title  \\\n",
       "0     tt0000009                   Miss Jerry                   Miss Jerry   \n",
       "1     tt0000574  The Story of the Kelly Gang  The Story of the Kelly Gang   \n",
       "2     tt0001892               Den sorte drøm               Den sorte drøm   \n",
       "\n",
       "   year date_published                    genre  duration           country  \\\n",
       "0  1894     1894-10-09                  Romance        45               USA   \n",
       "1  1906     26-12-1906  Biography, Crime, Drama        70         Australia   \n",
       "2  1911     19-08-1911                    Drama        53  Germany, Denmark   \n",
       "\n",
       "  language         director  ...  \\\n",
       "0     None  Alexander Black  ...   \n",
       "1     None     Charles Tait  ...   \n",
       "2      NaN        Urban Gad  ...   \n",
       "\n",
       "                                              actors  \\\n",
       "0  Blanche Bayliss, William Courtenay, Chauncey D...   \n",
       "1  Elizabeth Tait, John Tait, Norman Campbell, Be...   \n",
       "2  Asta Nielsen, Valdemar Psilander, Gunnar Helse...   \n",
       "\n",
       "                                         description avg_vote votes  budget  \\\n",
       "0  The adventures of a female reporter in the 1890s.      5.9   154     NaN   \n",
       "1  True story of notorious Australian outlaw Ned ...      6.1   589  $ 2250   \n",
       "2  Two men of high rank are both wooing the beaut...      5.8   188     NaN   \n",
       "\n",
       "   usa_gross_income worlwide_gross_income metascore reviews_from_users  \\\n",
       "0               NaN                   NaN       NaN                1.0   \n",
       "1               NaN                   NaN       NaN                7.0   \n",
       "2               NaN                   NaN       NaN                5.0   \n",
       "\n",
       "   reviews_from_critics  \n",
       "0                   2.0  \n",
       "1                   7.0  \n",
       "2                   2.0  \n",
       "\n",
       "[3 rows x 22 columns]"
      ]
     },
     "execution_count": 6,
     "metadata": {},
     "output_type": "execute_result"
    }
   ],
   "source": [
    "imdb_titles.head(3)"
   ]
  },
  {
   "cell_type": "code",
   "execution_count": 7,
   "metadata": {},
   "outputs": [],
   "source": [
    "# Select necessary columns\n",
    "imdb_titles = imdb_titles[[\"title\", \"original_title\", \"year\", \"country\", \"director\", \"actors\", \"avg_vote\"]]"
   ]
  },
  {
   "cell_type": "code",
   "execution_count": 8,
   "metadata": {},
   "outputs": [
    {
     "data": {
      "text/plain": [
       "(85852, 7)"
      ]
     },
     "execution_count": 8,
     "metadata": {},
     "output_type": "execute_result"
    }
   ],
   "source": [
    "# Drop duplicated values based on title, year, and avg_vote\n",
    "imdb_titles = imdb_titles.drop_duplicates(subset=[\"title\",\"year\",\"avg_vote\"])\n",
    "imdb_titles.shape"
   ]
  },
  {
   "cell_type": "code",
   "execution_count": 11,
   "metadata": {},
   "outputs": [],
   "source": [
    "# Now, merge joint_data and netflix_df again\n",
    "# to get the content that has both IMDB ratings and also available on Netflix.\n",
    "# Inner Join: 교집합처럼 넷플릭스 데이터(왼쪽)와 imdb 데이터(오른쪽)에 모두 있는 영화의 정보만을 가져옵니다.\n",
    "# 영화 제목을 기준으로 하는데, netflix 데이터에서는 영화 제목 column 이름이 'title', imdb에서는 'orignal_title'로 되어 있습니다.\n",
    "netflix_joint_df = netflix_df.merge(imdb_titles, left_on = \"title\", right_on=\"original_title\", how = \"inner\")"
   ]
  },
  {
   "cell_type": "code",
   "execution_count": 14,
   "metadata": {},
   "outputs": [
    {
     "name": "stdout",
     "output_type": "stream",
     "text": [
      "<class 'pandas.core.frame.DataFrame'>\n",
      "Int64Index: 4079 entries, 0 to 4078\n",
      "Data columns (total 19 columns):\n",
      " #   Column          Non-Null Count  Dtype  \n",
      "---  ------          --------------  -----  \n",
      " 0   show_id         4079 non-null   object \n",
      " 1   type            4079 non-null   object \n",
      " 2   title_x         4079 non-null   object \n",
      " 3   director_x      4077 non-null   object \n",
      " 4   cast            4079 non-null   object \n",
      " 5   country_x       4075 non-null   object \n",
      " 6   date_added      4076 non-null   object \n",
      " 7   release_year    4079 non-null   int64  \n",
      " 8   rating          4078 non-null   object \n",
      " 9   duration        4079 non-null   object \n",
      " 10  listed_in       4079 non-null   object \n",
      " 11  description     4079 non-null   object \n",
      " 12  title_y         4079 non-null   object \n",
      " 13  original_title  4079 non-null   object \n",
      " 14  year            4079 non-null   object \n",
      " 15  country_y       4074 non-null   object \n",
      " 16  director_y      4076 non-null   object \n",
      " 17  actors          4078 non-null   object \n",
      " 18  avg_vote        4079 non-null   float64\n",
      "dtypes: float64(1), int64(1), object(17)\n",
      "memory usage: 637.3+ KB\n"
     ]
    }
   ],
   "source": [
    "netflix_joint_df.info()\n",
    "# 양쪽 데이터 모두에서 동일한 column명이 있다면 _x, _y를 자동으로 붙혀줍니다. "
   ]
  },
  {
   "cell_type": "code",
   "execution_count": 14,
   "metadata": {},
   "outputs": [
    {
     "data": {
      "text/plain": [
       "show_id             0\n",
       "type                0\n",
       "title_x             0\n",
       "director_x        471\n",
       "cast               83\n",
       "country_x         118\n",
       "date_added          3\n",
       "release_year        0\n",
       "rating              1\n",
       "duration            0\n",
       "listed_in           0\n",
       "description         0\n",
       "title_y             0\n",
       "original_title      0\n",
       "year                0\n",
       "country_y           5\n",
       "director_y          3\n",
       "actors              1\n",
       "avg_vote            0\n",
       "dtype: int64"
      ]
     },
     "execution_count": 14,
     "metadata": {},
     "output_type": "execute_result"
    }
   ],
   "source": [
    "# Check missing values\n",
    "netflix_joint_df.isnull().sum()"
   ]
  },
  {
   "cell_type": "code",
   "execution_count": 12,
   "metadata": {},
   "outputs": [],
   "source": [
    "\"\"\"Netflix 데이터 결측값 처리\"\"\"\n",
    "# 1) Deal with missing values using columns from 'imdb_titles' dataset \n",
    "# IMDB 데이터셋에서 불러온 columns들에 있는 값을 이용해서 기존 Netflix 데이터에 있던 결측값을 대체합니다. \n",
    "netflix_joint_df['director_x'] = netflix_joint_df.apply(lambda row: row['director_y'] if pd.isnull(row['director_x']) else row['director_x'], axis = 1)\n",
    "netflix_joint_df['cast'] = netflix_joint_df.apply(lambda row: row['actors'] if pd.isnull(row['cast']) else row['cast'], axis = 1)\n",
    "netflix_joint_df['country_x'] = netflix_joint_df.apply(lambda row: row['country_y'] if pd.isnull(row['country_x']) else row['country_x'], axis = 1)"
   ]
  },
  {
   "cell_type": "code",
   "execution_count": 13,
   "metadata": {},
   "outputs": [
    {
     "data": {
      "text/plain": [
       "show_id           0\n",
       "type              0\n",
       "title_x           0\n",
       "director_x        2\n",
       "cast              0\n",
       "country_x         4\n",
       "date_added        3\n",
       "release_year      0\n",
       "rating            1\n",
       "duration          0\n",
       "listed_in         0\n",
       "description       0\n",
       "title_y           0\n",
       "original_title    0\n",
       "year              0\n",
       "country_y         5\n",
       "director_y        3\n",
       "actors            1\n",
       "avg_vote          0\n",
       "dtype: int64"
      ]
     },
     "execution_count": 13,
     "metadata": {},
     "output_type": "execute_result"
    }
   ],
   "source": [
    "netflix_joint_df.isnull().sum()"
   ]
  },
  {
   "cell_type": "code",
   "execution_count": 15,
   "metadata": {},
   "outputs": [],
   "source": [
    "# Drop unnecessary columns \n",
    "netflix_joint_df = netflix_joint_df.drop(columns=['title_y', 'original_title', 'country_y', 'year', 'director_y', 'actors'])"
   ]
  },
  {
   "cell_type": "code",
   "execution_count": 16,
   "metadata": {},
   "outputs": [
    {
     "name": "stdout",
     "output_type": "stream",
     "text": [
      "<class 'pandas.core.frame.DataFrame'>\n",
      "Int64Index: 4069 entries, 0 to 4078\n",
      "Data columns (total 13 columns):\n",
      " #   Column        Non-Null Count  Dtype  \n",
      "---  ------        --------------  -----  \n",
      " 0   show_id       4069 non-null   object \n",
      " 1   type          4069 non-null   object \n",
      " 2   title_x       4069 non-null   object \n",
      " 3   director_x    4069 non-null   object \n",
      " 4   cast          4069 non-null   object \n",
      " 5   country_x     4069 non-null   object \n",
      " 6   date_added    4069 non-null   object \n",
      " 7   release_year  4069 non-null   int64  \n",
      " 8   rating        4069 non-null   object \n",
      " 9   duration      4069 non-null   object \n",
      " 10  listed_in     4069 non-null   object \n",
      " 11  description   4069 non-null   object \n",
      " 12  avg_vote      4069 non-null   float64\n",
      "dtypes: float64(1), int64(1), object(11)\n",
      "memory usage: 445.0+ KB\n"
     ]
    }
   ],
   "source": [
    "# 2) Drop remaning NaN values\n",
    "# 이후 남아있는 결측값의 수가 1~4개이기 때문에 추가로 처리를 하지 않고 Drop합니다. \n",
    "netflix_joint_df = netflix_joint_df.dropna()\n",
    "netflix_joint_df.info()"
   ]
  },
  {
   "cell_type": "markdown",
   "metadata": {},
   "source": [
    "Now we have 4,069 cleaned entries"
   ]
  },
  {
   "cell_type": "markdown",
   "metadata": {},
   "source": [
    "## Visualizations"
   ]
  },
  {
   "cell_type": "code",
   "execution_count": 17,
   "metadata": {},
   "outputs": [
    {
     "data": {
      "application/vnd.plotly.v1+json": {
       "config": {
        "plotlyServerURL": "https://plot.ly"
       },
       "data": [
        {
         "branchvalues": "total",
         "customdata": [
          [
           8.6
          ],
          [
           8.6
          ],
          [
           8.6
          ],
          [
           8.9
          ],
          [
           8.7
          ],
          [
           9
          ],
          [
           8.9
          ],
          [
           8.9
          ],
          [
           8.7
          ],
          [
           8.8
          ],
          [
           8.6
          ],
          [
           8.6
          ],
          [
           8.8
          ],
          [
           9
          ],
          [
           8.6
          ],
          [
           8.9
          ],
          [
           8.9
          ],
          [
           8.9
          ],
          [
           8.7
          ],
          [
           8.7
          ]
         ],
         "domain": {
          "x": [
           0,
           1
          ],
          "y": [
           0,
           1
          ]
         },
         "hovertemplate": "labels=%{label}<br>avg_vote_sum=%{value}<br>parent=%{parent}<br>id=%{id}<br>avg_vote=%{color}<extra></extra>",
         "ids": [
          "Eh Janam Tumhare Lekhe/India",
          "Gol Maal/India",
          "Oththa Seruppu Size 7/India",
          "The Lord of the Rings: The Return of the King/New Zealand, United States",
          "The Lord of the Rings: The Two Towers/New Zealand, United States",
          "Innocent/Turkey",
          "Pulp Fiction/United States",
          "Schindler's List/United States",
          "The Matrix/United States",
          "Inception/United States, United Kingdom",
          "Eh Janam Tumhare Lekhe",
          "Gol Maal",
          "Inception",
          "Innocent",
          "Oththa Seruppu Size 7",
          "Pulp Fiction",
          "Schindler's List",
          "The Lord of the Rings: The Return of the King",
          "The Lord of the Rings: The Two Towers",
          "The Matrix"
         ],
         "labels": [
          "India",
          "India",
          "India",
          "New Zealand, United States",
          "New Zealand, United States",
          "Turkey",
          "United States",
          "United States",
          "United States",
          "United States, United Kingdom",
          "Eh Janam Tumhare Lekhe",
          "Gol Maal",
          "Inception",
          "Innocent",
          "Oththa Seruppu Size 7",
          "Pulp Fiction",
          "Schindler's List",
          "The Lord of the Rings: The Return of the King",
          "The Lord of the Rings: The Two Towers",
          "The Matrix"
         ],
         "marker": {
          "coloraxis": "coloraxis",
          "colors": [
           8.6,
           8.6,
           8.6,
           8.9,
           8.7,
           9,
           8.9,
           8.9,
           8.7,
           8.8,
           8.6,
           8.6,
           8.8,
           9,
           8.6,
           8.9,
           8.9,
           8.9,
           8.7,
           8.7
          ]
         },
         "name": "",
         "parents": [
          "Eh Janam Tumhare Lekhe",
          "Gol Maal",
          "Oththa Seruppu Size 7",
          "The Lord of the Rings: The Return of the King",
          "The Lord of the Rings: The Two Towers",
          "Innocent",
          "Pulp Fiction",
          "Schindler's List",
          "The Matrix",
          "Inception",
          "",
          "",
          "",
          "",
          "",
          "",
          "",
          "",
          "",
          ""
         ],
         "type": "sunburst",
         "values": [
          8.6,
          8.6,
          8.6,
          8.9,
          8.7,
          9,
          8.9,
          8.9,
          8.7,
          8.8,
          8.6,
          8.6,
          8.8,
          9,
          8.6,
          8.9,
          8.9,
          8.9,
          8.7,
          8.7
         ]
        }
       ],
       "layout": {
        "coloraxis": {
         "colorbar": {
          "title": {
           "text": "avg_vote"
          }
         },
         "colorscale": [
          [
           0,
           "#0d0887"
          ],
          [
           0.1111111111111111,
           "#46039f"
          ],
          [
           0.2222222222222222,
           "#7201a8"
          ],
          [
           0.3333333333333333,
           "#9c179e"
          ],
          [
           0.4444444444444444,
           "#bd3786"
          ],
          [
           0.5555555555555556,
           "#d8576b"
          ],
          [
           0.6666666666666666,
           "#ed7953"
          ],
          [
           0.7777777777777778,
           "#fb9f3a"
          ],
          [
           0.8888888888888888,
           "#fdca26"
          ],
          [
           1,
           "#f0f921"
          ]
         ]
        },
        "legend": {
         "tracegroupgap": 0
        },
        "template": {
         "data": {
          "bar": [
           {
            "error_x": {
             "color": "#2a3f5f"
            },
            "error_y": {
             "color": "#2a3f5f"
            },
            "marker": {
             "line": {
              "color": "#E5ECF6",
              "width": 0.5
             },
             "pattern": {
              "fillmode": "overlay",
              "size": 10,
              "solidity": 0.2
             }
            },
            "type": "bar"
           }
          ],
          "barpolar": [
           {
            "marker": {
             "line": {
              "color": "#E5ECF6",
              "width": 0.5
             },
             "pattern": {
              "fillmode": "overlay",
              "size": 10,
              "solidity": 0.2
             }
            },
            "type": "barpolar"
           }
          ],
          "carpet": [
           {
            "aaxis": {
             "endlinecolor": "#2a3f5f",
             "gridcolor": "white",
             "linecolor": "white",
             "minorgridcolor": "white",
             "startlinecolor": "#2a3f5f"
            },
            "baxis": {
             "endlinecolor": "#2a3f5f",
             "gridcolor": "white",
             "linecolor": "white",
             "minorgridcolor": "white",
             "startlinecolor": "#2a3f5f"
            },
            "type": "carpet"
           }
          ],
          "choropleth": [
           {
            "colorbar": {
             "outlinewidth": 0,
             "ticks": ""
            },
            "type": "choropleth"
           }
          ],
          "contour": [
           {
            "colorbar": {
             "outlinewidth": 0,
             "ticks": ""
            },
            "colorscale": [
             [
              0,
              "#0d0887"
             ],
             [
              0.1111111111111111,
              "#46039f"
             ],
             [
              0.2222222222222222,
              "#7201a8"
             ],
             [
              0.3333333333333333,
              "#9c179e"
             ],
             [
              0.4444444444444444,
              "#bd3786"
             ],
             [
              0.5555555555555556,
              "#d8576b"
             ],
             [
              0.6666666666666666,
              "#ed7953"
             ],
             [
              0.7777777777777778,
              "#fb9f3a"
             ],
             [
              0.8888888888888888,
              "#fdca26"
             ],
             [
              1,
              "#f0f921"
             ]
            ],
            "type": "contour"
           }
          ],
          "contourcarpet": [
           {
            "colorbar": {
             "outlinewidth": 0,
             "ticks": ""
            },
            "type": "contourcarpet"
           }
          ],
          "heatmap": [
           {
            "colorbar": {
             "outlinewidth": 0,
             "ticks": ""
            },
            "colorscale": [
             [
              0,
              "#0d0887"
             ],
             [
              0.1111111111111111,
              "#46039f"
             ],
             [
              0.2222222222222222,
              "#7201a8"
             ],
             [
              0.3333333333333333,
              "#9c179e"
             ],
             [
              0.4444444444444444,
              "#bd3786"
             ],
             [
              0.5555555555555556,
              "#d8576b"
             ],
             [
              0.6666666666666666,
              "#ed7953"
             ],
             [
              0.7777777777777778,
              "#fb9f3a"
             ],
             [
              0.8888888888888888,
              "#fdca26"
             ],
             [
              1,
              "#f0f921"
             ]
            ],
            "type": "heatmap"
           }
          ],
          "heatmapgl": [
           {
            "colorbar": {
             "outlinewidth": 0,
             "ticks": ""
            },
            "colorscale": [
             [
              0,
              "#0d0887"
             ],
             [
              0.1111111111111111,
              "#46039f"
             ],
             [
              0.2222222222222222,
              "#7201a8"
             ],
             [
              0.3333333333333333,
              "#9c179e"
             ],
             [
              0.4444444444444444,
              "#bd3786"
             ],
             [
              0.5555555555555556,
              "#d8576b"
             ],
             [
              0.6666666666666666,
              "#ed7953"
             ],
             [
              0.7777777777777778,
              "#fb9f3a"
             ],
             [
              0.8888888888888888,
              "#fdca26"
             ],
             [
              1,
              "#f0f921"
             ]
            ],
            "type": "heatmapgl"
           }
          ],
          "histogram": [
           {
            "marker": {
             "pattern": {
              "fillmode": "overlay",
              "size": 10,
              "solidity": 0.2
             }
            },
            "type": "histogram"
           }
          ],
          "histogram2d": [
           {
            "colorbar": {
             "outlinewidth": 0,
             "ticks": ""
            },
            "colorscale": [
             [
              0,
              "#0d0887"
             ],
             [
              0.1111111111111111,
              "#46039f"
             ],
             [
              0.2222222222222222,
              "#7201a8"
             ],
             [
              0.3333333333333333,
              "#9c179e"
             ],
             [
              0.4444444444444444,
              "#bd3786"
             ],
             [
              0.5555555555555556,
              "#d8576b"
             ],
             [
              0.6666666666666666,
              "#ed7953"
             ],
             [
              0.7777777777777778,
              "#fb9f3a"
             ],
             [
              0.8888888888888888,
              "#fdca26"
             ],
             [
              1,
              "#f0f921"
             ]
            ],
            "type": "histogram2d"
           }
          ],
          "histogram2dcontour": [
           {
            "colorbar": {
             "outlinewidth": 0,
             "ticks": ""
            },
            "colorscale": [
             [
              0,
              "#0d0887"
             ],
             [
              0.1111111111111111,
              "#46039f"
             ],
             [
              0.2222222222222222,
              "#7201a8"
             ],
             [
              0.3333333333333333,
              "#9c179e"
             ],
             [
              0.4444444444444444,
              "#bd3786"
             ],
             [
              0.5555555555555556,
              "#d8576b"
             ],
             [
              0.6666666666666666,
              "#ed7953"
             ],
             [
              0.7777777777777778,
              "#fb9f3a"
             ],
             [
              0.8888888888888888,
              "#fdca26"
             ],
             [
              1,
              "#f0f921"
             ]
            ],
            "type": "histogram2dcontour"
           }
          ],
          "mesh3d": [
           {
            "colorbar": {
             "outlinewidth": 0,
             "ticks": ""
            },
            "type": "mesh3d"
           }
          ],
          "parcoords": [
           {
            "line": {
             "colorbar": {
              "outlinewidth": 0,
              "ticks": ""
             }
            },
            "type": "parcoords"
           }
          ],
          "pie": [
           {
            "automargin": true,
            "type": "pie"
           }
          ],
          "scatter": [
           {
            "fillpattern": {
             "fillmode": "overlay",
             "size": 10,
             "solidity": 0.2
            },
            "type": "scatter"
           }
          ],
          "scatter3d": [
           {
            "line": {
             "colorbar": {
              "outlinewidth": 0,
              "ticks": ""
             }
            },
            "marker": {
             "colorbar": {
              "outlinewidth": 0,
              "ticks": ""
             }
            },
            "type": "scatter3d"
           }
          ],
          "scattercarpet": [
           {
            "marker": {
             "colorbar": {
              "outlinewidth": 0,
              "ticks": ""
             }
            },
            "type": "scattercarpet"
           }
          ],
          "scattergeo": [
           {
            "marker": {
             "colorbar": {
              "outlinewidth": 0,
              "ticks": ""
             }
            },
            "type": "scattergeo"
           }
          ],
          "scattergl": [
           {
            "marker": {
             "colorbar": {
              "outlinewidth": 0,
              "ticks": ""
             }
            },
            "type": "scattergl"
           }
          ],
          "scattermapbox": [
           {
            "marker": {
             "colorbar": {
              "outlinewidth": 0,
              "ticks": ""
             }
            },
            "type": "scattermapbox"
           }
          ],
          "scatterpolar": [
           {
            "marker": {
             "colorbar": {
              "outlinewidth": 0,
              "ticks": ""
             }
            },
            "type": "scatterpolar"
           }
          ],
          "scatterpolargl": [
           {
            "marker": {
             "colorbar": {
              "outlinewidth": 0,
              "ticks": ""
             }
            },
            "type": "scatterpolargl"
           }
          ],
          "scatterternary": [
           {
            "marker": {
             "colorbar": {
              "outlinewidth": 0,
              "ticks": ""
             }
            },
            "type": "scatterternary"
           }
          ],
          "surface": [
           {
            "colorbar": {
             "outlinewidth": 0,
             "ticks": ""
            },
            "colorscale": [
             [
              0,
              "#0d0887"
             ],
             [
              0.1111111111111111,
              "#46039f"
             ],
             [
              0.2222222222222222,
              "#7201a8"
             ],
             [
              0.3333333333333333,
              "#9c179e"
             ],
             [
              0.4444444444444444,
              "#bd3786"
             ],
             [
              0.5555555555555556,
              "#d8576b"
             ],
             [
              0.6666666666666666,
              "#ed7953"
             ],
             [
              0.7777777777777778,
              "#fb9f3a"
             ],
             [
              0.8888888888888888,
              "#fdca26"
             ],
             [
              1,
              "#f0f921"
             ]
            ],
            "type": "surface"
           }
          ],
          "table": [
           {
            "cells": {
             "fill": {
              "color": "#EBF0F8"
             },
             "line": {
              "color": "white"
             }
            },
            "header": {
             "fill": {
              "color": "#C8D4E3"
             },
             "line": {
              "color": "white"
             }
            },
            "type": "table"
           }
          ]
         },
         "layout": {
          "annotationdefaults": {
           "arrowcolor": "#2a3f5f",
           "arrowhead": 0,
           "arrowwidth": 1
          },
          "autotypenumbers": "strict",
          "coloraxis": {
           "colorbar": {
            "outlinewidth": 0,
            "ticks": ""
           }
          },
          "colorscale": {
           "diverging": [
            [
             0,
             "#8e0152"
            ],
            [
             0.1,
             "#c51b7d"
            ],
            [
             0.2,
             "#de77ae"
            ],
            [
             0.3,
             "#f1b6da"
            ],
            [
             0.4,
             "#fde0ef"
            ],
            [
             0.5,
             "#f7f7f7"
            ],
            [
             0.6,
             "#e6f5d0"
            ],
            [
             0.7,
             "#b8e186"
            ],
            [
             0.8,
             "#7fbc41"
            ],
            [
             0.9,
             "#4d9221"
            ],
            [
             1,
             "#276419"
            ]
           ],
           "sequential": [
            [
             0,
             "#0d0887"
            ],
            [
             0.1111111111111111,
             "#46039f"
            ],
            [
             0.2222222222222222,
             "#7201a8"
            ],
            [
             0.3333333333333333,
             "#9c179e"
            ],
            [
             0.4444444444444444,
             "#bd3786"
            ],
            [
             0.5555555555555556,
             "#d8576b"
            ],
            [
             0.6666666666666666,
             "#ed7953"
            ],
            [
             0.7777777777777778,
             "#fb9f3a"
            ],
            [
             0.8888888888888888,
             "#fdca26"
            ],
            [
             1,
             "#f0f921"
            ]
           ],
           "sequentialminus": [
            [
             0,
             "#0d0887"
            ],
            [
             0.1111111111111111,
             "#46039f"
            ],
            [
             0.2222222222222222,
             "#7201a8"
            ],
            [
             0.3333333333333333,
             "#9c179e"
            ],
            [
             0.4444444444444444,
             "#bd3786"
            ],
            [
             0.5555555555555556,
             "#d8576b"
            ],
            [
             0.6666666666666666,
             "#ed7953"
            ],
            [
             0.7777777777777778,
             "#fb9f3a"
            ],
            [
             0.8888888888888888,
             "#fdca26"
            ],
            [
             1,
             "#f0f921"
            ]
           ]
          },
          "colorway": [
           "#636efa",
           "#EF553B",
           "#00cc96",
           "#ab63fa",
           "#FFA15A",
           "#19d3f3",
           "#FF6692",
           "#B6E880",
           "#FF97FF",
           "#FECB52"
          ],
          "font": {
           "color": "#2a3f5f"
          },
          "geo": {
           "bgcolor": "white",
           "lakecolor": "white",
           "landcolor": "#E5ECF6",
           "showlakes": true,
           "showland": true,
           "subunitcolor": "white"
          },
          "hoverlabel": {
           "align": "left"
          },
          "hovermode": "closest",
          "mapbox": {
           "style": "light"
          },
          "paper_bgcolor": "white",
          "plot_bgcolor": "#E5ECF6",
          "polar": {
           "angularaxis": {
            "gridcolor": "white",
            "linecolor": "white",
            "ticks": ""
           },
           "bgcolor": "#E5ECF6",
           "radialaxis": {
            "gridcolor": "white",
            "linecolor": "white",
            "ticks": ""
           }
          },
          "scene": {
           "xaxis": {
            "backgroundcolor": "#E5ECF6",
            "gridcolor": "white",
            "gridwidth": 2,
            "linecolor": "white",
            "showbackground": true,
            "ticks": "",
            "zerolinecolor": "white"
           },
           "yaxis": {
            "backgroundcolor": "#E5ECF6",
            "gridcolor": "white",
            "gridwidth": 2,
            "linecolor": "white",
            "showbackground": true,
            "ticks": "",
            "zerolinecolor": "white"
           },
           "zaxis": {
            "backgroundcolor": "#E5ECF6",
            "gridcolor": "white",
            "gridwidth": 2,
            "linecolor": "white",
            "showbackground": true,
            "ticks": "",
            "zerolinecolor": "white"
           }
          },
          "shapedefaults": {
           "line": {
            "color": "#2a3f5f"
           }
          },
          "ternary": {
           "aaxis": {
            "gridcolor": "white",
            "linecolor": "white",
            "ticks": ""
           },
           "baxis": {
            "gridcolor": "white",
            "linecolor": "white",
            "ticks": ""
           },
           "bgcolor": "#E5ECF6",
           "caxis": {
            "gridcolor": "white",
            "linecolor": "white",
            "ticks": ""
           }
          },
          "title": {
           "x": 0.05
          },
          "xaxis": {
           "automargin": true,
           "gridcolor": "white",
           "linecolor": "white",
           "ticks": "",
           "title": {
            "standoff": 15
           },
           "zerolinecolor": "white",
           "zerolinewidth": 2
          },
          "yaxis": {
           "automargin": true,
           "gridcolor": "white",
           "linecolor": "white",
           "ticks": "",
           "title": {
            "standoff": 15
           },
           "zerolinecolor": "white",
           "zerolinewidth": 2
          }
         }
        },
        "title": {
         "text": "Top 10 rated movies on Netflix"
        }
       }
      }
     },
     "metadata": {},
     "output_type": "display_data"
    }
   ],
   "source": [
    "# Top 10 rated movies or tv shows on Netflix using sunburst chart\n",
    "# 가장 평점이 좋은 영화나 드라마 10개를 시각화합니다.\n",
    "netflix_joint_df = netflix_joint_df.sort_values(by=\"avg_vote\", ascending=False)\n",
    "top_rated=netflix_joint_df[0:10]\n",
    "fig =px.sunburst(\n",
    "    top_rated,\n",
    "    path=['title_x','country_x'],\n",
    "    values='avg_vote',\n",
    "    color='avg_vote',\n",
    "    title=\"Top 10 rated movies on Netflix\")\n",
    "fig.show()"
   ]
  },
  {
   "cell_type": "code",
   "execution_count": 18,
   "metadata": {},
   "outputs": [
    {
     "data": {
      "text/html": [
       "<div>\n",
       "<style scoped>\n",
       "    .dataframe tbody tr th:only-of-type {\n",
       "        vertical-align: middle;\n",
       "    }\n",
       "\n",
       "    .dataframe tbody tr th {\n",
       "        vertical-align: top;\n",
       "    }\n",
       "\n",
       "    .dataframe thead th {\n",
       "        text-align: right;\n",
       "    }\n",
       "</style>\n",
       "<table border=\"1\" class=\"dataframe\">\n",
       "  <thead>\n",
       "    <tr style=\"text-align: right;\">\n",
       "      <th></th>\n",
       "      <th>country_x</th>\n",
       "    </tr>\n",
       "  </thead>\n",
       "  <tbody>\n",
       "    <tr>\n",
       "      <th>United States</th>\n",
       "      <td>1444</td>\n",
       "    </tr>\n",
       "    <tr>\n",
       "      <th>India</th>\n",
       "      <td>772</td>\n",
       "    </tr>\n",
       "    <tr>\n",
       "      <th>United Kingdom</th>\n",
       "      <td>157</td>\n",
       "    </tr>\n",
       "    <tr>\n",
       "      <th>Canada</th>\n",
       "      <td>73</td>\n",
       "    </tr>\n",
       "    <tr>\n",
       "      <th>United Kingdom, United States</th>\n",
       "      <td>68</td>\n",
       "    </tr>\n",
       "    <tr>\n",
       "      <th>Philippines</th>\n",
       "      <td>57</td>\n",
       "    </tr>\n",
       "    <tr>\n",
       "      <th>France</th>\n",
       "      <td>48</td>\n",
       "    </tr>\n",
       "    <tr>\n",
       "      <th>South Korea</th>\n",
       "      <td>47</td>\n",
       "    </tr>\n",
       "    <tr>\n",
       "      <th>USA</th>\n",
       "      <td>46</td>\n",
       "    </tr>\n",
       "    <tr>\n",
       "      <th>Turkey</th>\n",
       "      <td>45</td>\n",
       "    </tr>\n",
       "    <tr>\n",
       "      <th>Spain</th>\n",
       "      <td>45</td>\n",
       "    </tr>\n",
       "  </tbody>\n",
       "</table>\n",
       "</div>"
      ],
      "text/plain": [
       "                               country_x\n",
       "United States                       1444\n",
       "India                                772\n",
       "United Kingdom                       157\n",
       "Canada                                73\n",
       "United Kingdom, United States         68\n",
       "Philippines                           57\n",
       "France                                48\n",
       "South Korea                           47\n",
       "USA                                   46\n",
       "Turkey                                45\n",
       "Spain                                 45"
      ]
     },
     "execution_count": 18,
     "metadata": {},
     "output_type": "execute_result"
    }
   ],
   "source": [
    "# Top 10 highest rated countries\n",
    "# 각 나라별 영화의 개수를 측정하고, 이 중 가장 많은 10개의 나라만 보여줍니다.\n",
    "country_count=netflix_joint_df['country_x'].value_counts().sort_values(ascending=False)\n",
    "country_count=pd.DataFrame(country_count)\n",
    "topcountries=country_count[0:11]\n",
    "topcountries"
   ]
  },
  {
   "cell_type": "code",
   "execution_count": 19,
   "metadata": {},
   "outputs": [
    {
     "data": {
      "text/html": [
       "<div>\n",
       "<style scoped>\n",
       "    .dataframe tbody tr th:only-of-type {\n",
       "        vertical-align: middle;\n",
       "    }\n",
       "\n",
       "    .dataframe tbody tr th {\n",
       "        vertical-align: top;\n",
       "    }\n",
       "\n",
       "    .dataframe thead th {\n",
       "        text-align: right;\n",
       "    }\n",
       "</style>\n",
       "<table border=\"1\" class=\"dataframe\">\n",
       "  <thead>\n",
       "    <tr style=\"text-align: right;\">\n",
       "      <th></th>\n",
       "      <th>country_x</th>\n",
       "    </tr>\n",
       "  </thead>\n",
       "  <tbody>\n",
       "    <tr>\n",
       "      <th>United States</th>\n",
       "      <td>1444</td>\n",
       "    </tr>\n",
       "    <tr>\n",
       "      <th>India</th>\n",
       "      <td>772</td>\n",
       "    </tr>\n",
       "    <tr>\n",
       "      <th>United Kingdom</th>\n",
       "      <td>157</td>\n",
       "    </tr>\n",
       "    <tr>\n",
       "      <th>Canada</th>\n",
       "      <td>73</td>\n",
       "    </tr>\n",
       "    <tr>\n",
       "      <th>United Kingdom, United States</th>\n",
       "      <td>68</td>\n",
       "    </tr>\n",
       "    <tr>\n",
       "      <th>...</th>\n",
       "      <td>...</td>\n",
       "    </tr>\n",
       "    <tr>\n",
       "      <th>China, United States, United Kingdom</th>\n",
       "      <td>1</td>\n",
       "    </tr>\n",
       "    <tr>\n",
       "      <th>Guatemala</th>\n",
       "      <td>1</td>\n",
       "    </tr>\n",
       "    <tr>\n",
       "      <th>Canada, South Korea, United States</th>\n",
       "      <td>1</td>\n",
       "    </tr>\n",
       "    <tr>\n",
       "      <th>United Kingdom, Canada, United States, Cayman Islands</th>\n",
       "      <td>1</td>\n",
       "    </tr>\n",
       "    <tr>\n",
       "      <th>Turkey, India</th>\n",
       "      <td>1</td>\n",
       "    </tr>\n",
       "  </tbody>\n",
       "</table>\n",
       "<p>462 rows × 1 columns</p>\n",
       "</div>"
      ],
      "text/plain": [
       "                                                    country_x\n",
       "United States                                            1444\n",
       "India                                                     772\n",
       "United Kingdom                                            157\n",
       "Canada                                                     73\n",
       "United Kingdom, United States                              68\n",
       "...                                                       ...\n",
       "China, United States, United Kingdom                        1\n",
       "Guatemala                                                   1\n",
       "Canada, South Korea, United States                          1\n",
       "United Kingdom, Canada, United States, Cayman I...          1\n",
       "Turkey, India                                               1\n",
       "\n",
       "[462 rows x 1 columns]"
      ]
     },
     "execution_count": 19,
     "metadata": {},
     "output_type": "execute_result"
    }
   ],
   "source": [
    "# 국가 이름도 ','로 구분이 되어 있어서, text split처리가 필요해 보입니다.\n",
    "country_count"
   ]
  },
  {
   "cell_type": "code",
   "execution_count": 20,
   "metadata": {},
   "outputs": [
    {
     "data": {
      "image/png": "[encoded data removed]",
      "text/plain": [
       "<Figure size 1200x1000 with 1 Axes>"
      ]
     },
     "metadata": {},
     "output_type": "display_data"
    }
   ],
   "source": [
    "# How many movies were released in year-wise?\n",
    "# 가장 많은 영화를 상영했던 연도를 보여줍니다. (연도 순으로 차트를 보여주는 것도 좋을 것 같음)\n",
    "plt.figure(figsize=(12,10))\n",
    "sns.set(style=\"darkgrid\")\n",
    "ax = sns.countplot(y=\"release_year\", data=netflix_df, order=netflix_df['release_year'].value_counts().index[0:15])"
   ]
  },
  {
   "cell_type": "code",
   "execution_count": 21,
   "metadata": {},
   "outputs": [
    {
     "name": "stdout",
     "output_type": "stream",
     "text": [
      "(3573, 13) (496, 13)\n"
     ]
    }
   ],
   "source": [
    "# How long does the movie play? 영화의 상영 시간 분포도를 구해봅니다.\n",
    "# 1) Devide movie and tv shows (Since movie is counted by minutes and tv shows with seasons)\n",
    "netflix_movies = netflix_joint_df[netflix_joint_df['type'] == 'Movie']\n",
    "netflix_shows = netflix_joint_df[netflix_joint_df['type'] == 'TV Show']\n",
    "print(netflix_movies.shape, netflix_shows.shape)"
   ]
  },
  {
   "cell_type": "code",
   "execution_count": 22,
   "metadata": {},
   "outputs": [
    {
     "name": "stderr",
     "output_type": "stream",
     "text": [
      "C:\\Users\\PC\\AppData\\Local\\Temp\\ipykernel_60640\\1747989587.py:2: SettingWithCopyWarning:\n",
      "\n",
      "\n",
      "A value is trying to be set on a copy of a slice from a DataFrame.\n",
      "Try using .loc[row_indexer,col_indexer] = value instead\n",
      "\n",
      "See the caveats in the documentation: https://pandas.pydata.org/pandas-docs/stable/user_guide/indexing.html#returning-a-view-versus-a-copy\n",
      "\n",
      "C:\\Users\\PC\\AppData\\Local\\Temp\\ipykernel_60640\\1747989587.py:3: SettingWithCopyWarning:\n",
      "\n",
      "\n",
      "A value is trying to be set on a copy of a slice from a DataFrame.\n",
      "Try using .loc[row_indexer,col_indexer] = value instead\n",
      "\n",
      "See the caveats in the documentation: https://pandas.pydata.org/pandas-docs/stable/user_guide/indexing.html#returning-a-view-versus-a-copy\n",
      "\n"
     ]
    }
   ],
   "source": [
    "# Transform to int by removing 'min' after the numbers in 'duration'\n",
    "netflix_movies['duration']=netflix_movies['duration'].str.replace(' min','')\n",
    "netflix_movies['duration'] = netflix_movies['duration'].astype(str).astype(int)"
   ]
  },
  {
   "cell_type": "code",
   "execution_count": 46,
   "metadata": {},
   "outputs": [
    {
     "name": "stderr",
     "output_type": "stream",
     "text": [
      "C:\\Users\\PC\\AppData\\Local\\Temp\\ipykernel_43240\\2358253589.py:3: FutureWarning:\n",
      "\n",
      "\n",
      "\n",
      "`shade` is now deprecated in favor of `fill`; setting `fill=True`.\n",
      "This will become an error in seaborn v0.14.0; please update your code.\n",
      "\n",
      "\n"
     ]
    },
    {
     "data": {
      "text/plain": [
       "<AxesSubplot: xlabel='duration', ylabel='Density'>"
      ]
     },
     "execution_count": 46,
     "metadata": {},
     "output_type": "execute_result"
    },
    {
     "data": {
      "image/png": "[encoded data removed]",
      "text/plain": [
       "<Figure size 640x480 with 1 Axes>"
      ]
     },
     "metadata": {},
     "output_type": "display_data"
    }
   ],
   "source": [
    "# Distribution of duration (play time)\n",
    "sns.set(style=\"darkgrid\")\n",
    "sns.kdeplot(data=netflix_movies['duration'], shade=True)"
   ]
  },
  {
   "cell_type": "markdown",
   "metadata": {},
   "source": [
    "### WordCloud\n",
    "- 일부 변수들은 ','로 한 행에 여러 값이 들어가있음. \n",
    "- split 처리가 필요함."
   ]
  },
  {
   "cell_type": "code",
   "execution_count": 24,
   "metadata": {},
   "outputs": [
    {
     "name": "stdout",
     "output_type": "stream",
     "text": [
      "Collecting wordcloud\n",
      "  Downloading wordcloud-1.9.2-cp310-cp310-win_amd64.whl.metadata (3.4 kB)\n",
      "Requirement already satisfied: numpy>=1.6.1 in c:\\users\\pc\\appdata\\local\\programs\\python\\python310\\lib\\site-packages (from wordcloud) (1.23.3)\n",
      "Requirement already satisfied: pillow in c:\\users\\pc\\appdata\\local\\programs\\python\\python310\\lib\\site-packages (from wordcloud) (9.2.0)\n",
      "Requirement already satisfied: matplotlib in c:\\users\\pc\\appdata\\local\\programs\\python\\python310\\lib\\site-packages (from wordcloud) (3.6.0)\n",
      "Requirement already satisfied: contourpy>=1.0.1 in c:\\users\\pc\\appdata\\local\\programs\\python\\python310\\lib\\site-packages (from matplotlib->wordcloud) (1.0.5)\n",
      "Requirement already satisfied: cycler>=0.10 in c:\\users\\pc\\appdata\\local\\programs\\python\\python310\\lib\\site-packages (from matplotlib->wordcloud) (0.11.0)\n",
      "Requirement already satisfied: fonttools>=4.22.0 in c:\\users\\pc\\appdata\\local\\programs\\python\\python310\\lib\\site-packages (from matplotlib->wordcloud) (4.37.2)\n",
      "Requirement already satisfied: kiwisolver>=1.0.1 in c:\\users\\pc\\appdata\\local\\programs\\python\\python310\\lib\\site-packages (from matplotlib->wordcloud) (1.4.4)\n",
      "Requirement already satisfied: packaging>=20.0 in c:\\users\\pc\\appdata\\local\\programs\\python\\python310\\lib\\site-packages (from matplotlib->wordcloud) (21.3)\n",
      "Requirement already satisfied: pyparsing>=2.2.1 in c:\\users\\pc\\appdata\\local\\programs\\python\\python310\\lib\\site-packages (from matplotlib->wordcloud) (3.0.9)\n",
      "Requirement already satisfied: python-dateutil>=2.7 in c:\\users\\pc\\appdata\\local\\programs\\python\\python310\\lib\\site-packages (from matplotlib->wordcloud) (2.8.2)\n",
      "Requirement already satisfied: six>=1.5 in c:\\users\\pc\\appdata\\local\\programs\\python\\python310\\lib\\site-packages (from python-dateutil>=2.7->matplotlib->wordcloud) (1.16.0)\n",
      "Downloading wordcloud-1.9.2-cp310-cp310-win_amd64.whl (152 kB)\n",
      "   ---------------------------------------- 152.1/152.1 kB 9.5 MB/s eta 0:00:00\n",
      "Installing collected packages: wordcloud\n",
      "Successfully installed wordcloud-1.9.2\n"
     ]
    }
   ],
   "source": [
    "# ! pip install wordcloud "
   ]
  },
  {
   "cell_type": "code",
   "execution_count": 25,
   "metadata": {},
   "outputs": [],
   "source": [
    "from collections import Counter\n",
    "\n",
    "genres=list(netflix_movies['listed_in']) # listed_in: genre\n",
    "gen=[]\n",
    "\n",
    "# Separate genres based on ',' \n",
    "for i in genres:\n",
    "    i=list(i.split(','))\n",
    "    for j in i:\n",
    "        gen.append(j.replace(' ',\"\"))\n",
    "g=Counter(gen) # 워드클라우드를 만들기 위해 dataframe을 Counter함수를 사용해서 자동으로 dictionary형으로 변환 "
   ]
  },
  {
   "cell_type": "code",
   "execution_count": 26,
   "metadata": {},
   "outputs": [
    {
     "data": {
      "text/plain": [
       "['Action&Adventure',\n",
       " 'Sci-Fi&Fantasy',\n",
       " 'ClassicMovies',\n",
       " 'Dramas',\n",
       " 'ClassicMovies',\n",
       " 'CultMovies',\n",
       " 'Dramas',\n",
       " 'Action&Adventure',\n",
       " 'Sci-Fi&Fantasy',\n",
       " 'Thrillers',\n",
       " 'Action&Adventure',\n",
       " 'Sci-Fi&Fantasy',\n",
       " 'Action&Adventure',\n",
       " 'Sci-Fi&Fantasy',\n",
       " 'Dramas',\n",
       " 'InternationalMovies',\n",
       " 'ClassicMovies',\n",
       " 'Comedies',\n",
       " 'InternationalMovies',\n",
       " 'Dramas',\n",
       " 'InternationalMovies',\n",
       " 'Thrillers',\n",
       " 'InternationalMovies',\n",
       " 'RomanticMovies',\n",
       " 'Dramas',\n",
       " 'IndependentMovies',\n",
       " 'InternationalMovies',\n",
       " 'Dramas',\n",
       " 'InternationalMovies',\n",
       " 'Dramas',\n",
       " 'IndependentMovies',\n",
       " 'InternationalMovies',\n",
       " 'Dramas',\n",
       " 'Thrillers',\n",
       " 'Dramas',\n",
       " 'IndependentMovies',\n",
       " 'InternationalMovies',\n",
       " 'HorrorMovies',\n",
       " 'InternationalMovies',\n",
       " 'Thrillers',\n",
       " 'Action&Adventure',\n",
       " 'IndependentMovies',\n",
       " 'Comedies',\n",
       " 'InternationalMovies',\n",
       " 'Music&Musicals',\n",
       " 'Dramas',\n",
       " 'IndependentMovies',\n",
       " 'InternationalMovies',\n",
       " 'Dramas',\n",
       " 'Dramas',\n",
       " 'InternationalMovies',\n",
       " 'Dramas',\n",
       " 'IndependentMovies',\n",
       " 'InternationalMovies',\n",
       " 'Dramas',\n",
       " 'InternationalMovies',\n",
       " 'Comedies',\n",
       " 'InternationalMovies',\n",
       " 'Music&Musicals',\n",
       " 'Comedies',\n",
       " 'Dramas',\n",
       " 'InternationalMovies',\n",
       " 'Dramas',\n",
       " 'IndependentMovies',\n",
       " 'InternationalMovies',\n",
       " 'Action&Adventure',\n",
       " 'Dramas',\n",
       " 'ClassicMovies',\n",
       " 'Dramas',\n",
       " 'Dramas',\n",
       " 'InternationalMovies',\n",
       " 'Dramas',\n",
       " 'InternationalMovies',\n",
       " 'RomanticMovies',\n",
       " 'Comedies',\n",
       " 'InternationalMovies',\n",
       " 'RomanticMovies',\n",
       " 'Comedies',\n",
       " 'Dramas',\n",
       " 'InternationalMovies',\n",
       " 'Dramas',\n",
       " 'InternationalMovies',\n",
       " 'SportsMovies',\n",
       " 'Action&Adventure',\n",
       " 'Sci-Fi&Fantasy',\n",
       " 'Action&Adventure',\n",
       " 'Comedies',\n",
       " 'Dramas',\n",
       " 'InternationalMovies',\n",
       " 'Dramas',\n",
       " 'InternationalMovies',\n",
       " 'RomanticMovies',\n",
       " 'Comedies',\n",
       " 'Dramas',\n",
       " 'IndependentMovies',\n",
       " 'HorrorMovies',\n",
       " 'InternationalMovies',\n",
       " 'Thrillers',\n",
       " 'Dramas',\n",
       " 'InternationalMovies',\n",
       " 'Thrillers',\n",
       " 'Dramas',\n",
       " 'IndependentMovies',\n",
       " 'InternationalMovies',\n",
       " 'Dramas',\n",
       " 'Action&Adventure',\n",
       " 'Comedies',\n",
       " 'Dramas',\n",
       " 'InternationalMovies',\n",
       " 'ClassicMovies',\n",
       " 'Comedies',\n",
       " 'InternationalMovies',\n",
       " 'Dramas',\n",
       " 'InternationalMovies',\n",
       " 'ClassicMovies',\n",
       " 'CultMovies',\n",
       " 'Dramas',\n",
       " 'Dramas',\n",
       " 'InternationalMovies',\n",
       " 'RomanticMovies',\n",
       " 'Dramas',\n",
       " 'IndependentMovies',\n",
       " 'InternationalMovies',\n",
       " 'Action&Adventure',\n",
       " 'Dramas',\n",
       " 'Sci-Fi&Fantasy',\n",
       " 'Action&Adventure',\n",
       " 'Comedies',\n",
       " 'IndependentMovies',\n",
       " 'Thrillers',\n",
       " 'Action&Adventure',\n",
       " 'Children&FamilyMovies',\n",
       " 'ClassicMovies',\n",
       " 'Dramas',\n",
       " 'IndependentMovies',\n",
       " 'Action&Adventure',\n",
       " 'Dramas',\n",
       " 'InternationalMovies',\n",
       " 'Action&Adventure',\n",
       " 'InternationalMovies',\n",
       " 'Dramas',\n",
       " 'InternationalMovies',\n",
       " 'Dramas',\n",
       " 'InternationalMovies',\n",
       " 'Thrillers',\n",
       " 'Action&Adventure',\n",
       " 'Comedies',\n",
       " 'Dramas',\n",
       " 'Children&FamilyMovies',\n",
       " 'Comedies',\n",
       " 'Comedies',\n",
       " 'Dramas',\n",
       " 'InternationalMovies',\n",
       " 'ClassicMovies',\n",
       " 'Dramas',\n",
       " 'SportsMovies',\n",
       " 'Dramas',\n",
       " 'InternationalMovies',\n",
       " 'Thrillers',\n",
       " 'Action&Adventure',\n",
       " 'ClassicMovies',\n",
       " 'Comedies',\n",
       " 'Dramas',\n",
       " 'IndependentMovies',\n",
       " 'InternationalMovies',\n",
       " 'Comedies',\n",
       " 'Dramas',\n",
       " 'InternationalMovies',\n",
       " 'Dramas',\n",
       " 'InternationalMovies',\n",
       " 'Comedies',\n",
       " 'Dramas',\n",
       " 'InternationalMovies',\n",
       " 'Dramas',\n",
       " 'InternationalMovies',\n",
       " 'Action&Adventure',\n",
       " 'Comedies',\n",
       " 'CultMovies',\n",
       " 'Comedies',\n",
       " 'Dramas',\n",
       " 'IndependentMovies',\n",
       " 'Comedies',\n",
       " 'Dramas',\n",
       " 'InternationalMovies',\n",
       " 'Dramas',\n",
       " 'InternationalMovies',\n",
       " 'Action&Adventure',\n",
       " 'Dramas',\n",
       " 'InternationalMovies',\n",
       " 'Dramas',\n",
       " 'IndependentMovies',\n",
       " 'InternationalMovies',\n",
       " 'Dramas',\n",
       " 'IndependentMovies',\n",
       " 'Action&Adventure',\n",
       " 'Dramas',\n",
       " 'Action&Adventure',\n",
       " 'ClassicMovies',\n",
       " 'Dramas',\n",
       " 'Dramas',\n",
       " 'SportsMovies',\n",
       " 'InternationalMovies',\n",
       " 'Music&Musicals',\n",
       " 'Thrillers',\n",
       " 'Dramas',\n",
       " 'IndependentMovies',\n",
       " 'Comedies',\n",
       " 'Dramas',\n",
       " 'InternationalMovies',\n",
       " 'Dramas',\n",
       " 'InternationalMovies',\n",
       " 'RomanticMovies',\n",
       " 'Action&Adventure',\n",
       " 'Dramas',\n",
       " 'InternationalMovies',\n",
       " 'Action&Adventure',\n",
       " 'Dramas',\n",
       " 'InternationalMovies',\n",
       " 'Comedies',\n",
       " 'Dramas',\n",
       " 'InternationalMovies',\n",
       " 'Action&Adventure',\n",
       " 'Dramas',\n",
       " 'IndependentMovies',\n",
       " 'Comedies',\n",
       " 'CultMovies',\n",
       " 'InternationalMovies',\n",
       " 'Children&FamilyMovies',\n",
       " 'Dramas',\n",
       " 'Action&Adventure',\n",
       " 'ClassicMovies',\n",
       " 'Dramas',\n",
       " 'Comedies',\n",
       " 'Dramas',\n",
       " 'InternationalMovies',\n",
       " 'ClassicMovies',\n",
       " 'Dramas',\n",
       " 'Dramas',\n",
       " 'InternationalMovies',\n",
       " 'RomanticMovies',\n",
       " 'Comedies',\n",
       " 'CultMovies',\n",
       " 'Dramas',\n",
       " 'Dramas',\n",
       " 'Dramas',\n",
       " 'IndependentMovies',\n",
       " 'InternationalMovies',\n",
       " 'Dramas',\n",
       " 'InternationalMovies',\n",
       " 'Dramas',\n",
       " 'RomanticMovies',\n",
       " 'Thrillers',\n",
       " 'Dramas',\n",
       " 'IndependentMovies',\n",
       " 'LGBTQMovies',\n",
       " 'Dramas',\n",
       " 'IndependentMovies',\n",
       " 'Dramas',\n",
       " 'InternationalMovies',\n",
       " 'Comedies',\n",
       " 'Dramas',\n",
       " 'InternationalMovies',\n",
       " 'Dramas',\n",
       " 'InternationalMovies',\n",
       " 'RomanticMovies',\n",
       " 'HorrorMovies',\n",
       " 'InternationalMovies',\n",
       " 'Thrillers',\n",
       " 'Dramas',\n",
       " 'InternationalMovies',\n",
       " 'Thrillers',\n",
       " 'Dramas',\n",
       " 'IndependentMovies',\n",
       " 'InternationalMovies',\n",
       " 'Action&Adventure',\n",
       " 'Comedies',\n",
       " 'Dramas',\n",
       " 'Dramas',\n",
       " 'RomanticMovies',\n",
       " 'Sci-Fi&Fantasy',\n",
       " 'Dramas',\n",
       " 'Comedies',\n",
       " 'InternationalMovies',\n",
       " 'ClassicMovies',\n",
       " 'Dramas',\n",
       " 'Action&Adventure',\n",
       " 'ClassicMovies',\n",
       " 'Dramas',\n",
       " 'Dramas',\n",
       " 'InternationalMovies',\n",
       " 'Dramas',\n",
       " 'IndependentMovies',\n",
       " 'Action&Adventure',\n",
       " 'ClassicMovies',\n",
       " 'Dramas',\n",
       " 'Action&Adventure',\n",
       " 'Dramas',\n",
       " 'InternationalMovies',\n",
       " 'Dramas',\n",
       " 'IndependentMovies',\n",
       " 'Comedies',\n",
       " 'InternationalMovies',\n",
       " 'Music&Musicals',\n",
       " 'HorrorMovies',\n",
       " 'Comedies',\n",
       " 'Dramas',\n",
       " 'InternationalMovies',\n",
       " 'Dramas',\n",
       " 'InternationalMovies',\n",
       " 'Thrillers',\n",
       " 'Dramas',\n",
       " 'InternationalMovies',\n",
       " 'Thrillers',\n",
       " 'Action&Adventure',\n",
       " 'ClassicMovies',\n",
       " 'Dramas',\n",
       " 'RomanticMovies',\n",
       " 'ClassicMovies',\n",
       " 'Dramas',\n",
       " 'Music&Musicals',\n",
       " 'ClassicMovies',\n",
       " 'Comedies',\n",
       " 'Dramas',\n",
       " 'Comedies',\n",
       " 'IndependentMovies',\n",
       " 'Music&Musicals',\n",
       " 'Action&Adventure',\n",
       " 'ClassicMovies',\n",
       " 'Dramas',\n",
       " 'Dramas',\n",
       " 'InternationalMovies',\n",
       " 'HorrorMovies',\n",
       " 'InternationalMovies',\n",
       " 'Thrillers',\n",
       " 'Children&FamilyMovies',\n",
       " 'Comedies',\n",
       " 'Dramas',\n",
       " 'Dramas',\n",
       " 'Dramas',\n",
       " 'InternationalMovies',\n",
       " 'ClassicMovies',\n",
       " 'HorrorMovies',\n",
       " 'Thrillers',\n",
       " 'Comedies',\n",
       " 'Dramas',\n",
       " 'Dramas',\n",
       " 'IndependentMovies',\n",
       " 'InternationalMovies',\n",
       " 'Dramas',\n",
       " 'IndependentMovies',\n",
       " 'Thrillers',\n",
       " 'Comedies',\n",
       " 'Dramas',\n",
       " 'IndependentMovies',\n",
       " 'Dramas',\n",
       " 'IndependentMovies',\n",
       " 'InternationalMovies',\n",
       " 'Comedies',\n",
       " 'IndependentMovies',\n",
       " 'InternationalMovies',\n",
       " 'Action&Adventure',\n",
       " 'Sci-Fi&Fantasy',\n",
       " 'Dramas',\n",
       " 'InternationalMovies',\n",
       " 'Dramas',\n",
       " 'InternationalMovies',\n",
       " 'Dramas',\n",
       " 'IndependentMovies',\n",
       " 'Sci-Fi&Fantasy',\n",
       " 'Comedies',\n",
       " 'Dramas',\n",
       " 'IndependentMovies',\n",
       " 'Dramas',\n",
       " 'IndependentMovies',\n",
       " 'InternationalMovies',\n",
       " 'Action&Adventure',\n",
       " 'InternationalMovies',\n",
       " 'Sci-Fi&Fantasy',\n",
       " 'Dramas',\n",
       " 'InternationalMovies',\n",
       " 'Music&Musicals',\n",
       " 'Dramas',\n",
       " 'Thrillers',\n",
       " 'Dramas',\n",
       " 'InternationalMovies',\n",
       " 'RomanticMovies',\n",
       " 'Comedies',\n",
       " 'Dramas',\n",
       " 'IndependentMovies',\n",
       " 'Comedies',\n",
       " 'Dramas',\n",
       " 'IndependentMovies',\n",
       " 'IndependentMovies',\n",
       " 'Sci-Fi&Fantasy',\n",
       " 'Thrillers',\n",
       " 'Comedies',\n",
       " 'Dramas',\n",
       " 'IndependentMovies',\n",
       " 'ClassicMovies',\n",
       " 'Comedies',\n",
       " 'Dramas',\n",
       " 'Comedies',\n",
       " 'InternationalMovies',\n",
       " 'Music&Musicals',\n",
       " 'Dramas',\n",
       " 'InternationalMovies',\n",
       " 'Thrillers',\n",
       " 'Action&Adventure',\n",
       " 'Dramas',\n",
       " 'InternationalMovies',\n",
       " 'Dramas',\n",
       " 'IndependentMovies',\n",
       " 'Action&Adventure',\n",
       " 'InternationalMovies',\n",
       " 'Action&Adventure',\n",
       " 'Comedies',\n",
       " 'Dramas',\n",
       " 'Dramas',\n",
       " 'IndependentMovies',\n",
       " 'InternationalMovies',\n",
       " 'Action&Adventure',\n",
       " 'Comedies',\n",
       " 'Sci-Fi&Fantasy',\n",
       " 'Comedies',\n",
       " 'InternationalMovies',\n",
       " 'Music&Musicals',\n",
       " 'Comedies',\n",
       " 'Dramas',\n",
       " 'IndependentMovies',\n",
       " 'Action&Adventure',\n",
       " 'InternationalMovies',\n",
       " 'Music&Musicals',\n",
       " 'Dramas',\n",
       " 'Dramas',\n",
       " 'InternationalMovies',\n",
       " 'Dramas',\n",
       " 'Thrillers',\n",
       " 'Thrillers',\n",
       " 'Action&Adventure',\n",
       " 'ClassicMovies',\n",
       " 'Dramas',\n",
       " 'Comedies',\n",
       " 'RomanticMovies',\n",
       " 'Dramas',\n",
       " 'InternationalMovies',\n",
       " 'Action&Adventure',\n",
       " 'ClassicMovies',\n",
       " 'ClassicMovies',\n",
       " 'Dramas',\n",
       " 'IndependentMovies',\n",
       " 'Action&Adventure',\n",
       " 'InternationalMovies',\n",
       " 'Dramas',\n",
       " 'InternationalMovies',\n",
       " 'Comedies',\n",
       " 'Dramas',\n",
       " 'InternationalMovies',\n",
       " 'Action&Adventure',\n",
       " 'Thrillers',\n",
       " 'Children&FamilyMovies',\n",
       " 'ClassicMovies',\n",
       " 'Comedies',\n",
       " 'Dramas',\n",
       " 'SportsMovies',\n",
       " 'Dramas',\n",
       " 'Faith&Spirituality',\n",
       " 'InternationalMovies',\n",
       " 'Comedies',\n",
       " 'Dramas',\n",
       " 'InternationalMovies',\n",
       " 'Comedies',\n",
       " 'Dramas',\n",
       " 'InternationalMovies',\n",
       " 'InternationalMovies',\n",
       " 'Thrillers',\n",
       " 'Action&Adventure',\n",
       " 'InternationalMovies',\n",
       " 'InternationalMovies',\n",
       " 'Thrillers',\n",
       " 'Children&FamilyMovies',\n",
       " 'ClassicMovies',\n",
       " 'Comedies',\n",
       " 'CultMovies',\n",
       " 'Dramas',\n",
       " 'InternationalMovies',\n",
       " 'Thrillers',\n",
       " 'Dramas',\n",
       " 'Dramas',\n",
       " 'IndependentMovies',\n",
       " 'InternationalMovies',\n",
       " 'Dramas',\n",
       " 'IndependentMovies',\n",
       " 'InternationalMovies',\n",
       " 'ClassicMovies',\n",
       " 'Music&Musicals',\n",
       " 'Dramas',\n",
       " 'IndependentMovies',\n",
       " 'InternationalMovies',\n",
       " 'Dramas',\n",
       " 'IndependentMovies',\n",
       " 'Action&Adventure',\n",
       " 'ClassicMovies',\n",
       " 'Dramas',\n",
       " 'IndependentMovies',\n",
       " 'InternationalMovies',\n",
       " 'Comedies',\n",
       " 'Dramas',\n",
       " 'InternationalMovies',\n",
       " 'Comedies',\n",
       " 'Dramas',\n",
       " 'IndependentMovies',\n",
       " 'Comedies',\n",
       " 'RomanticMovies',\n",
       " 'Dramas',\n",
       " 'IndependentMovies',\n",
       " 'InternationalMovies',\n",
       " 'Action&Adventure',\n",
       " 'Dramas',\n",
       " 'InternationalMovies',\n",
       " 'Dramas',\n",
       " 'IndependentMovies',\n",
       " 'InternationalMovies',\n",
       " 'ClassicMovies',\n",
       " 'Dramas',\n",
       " 'Dramas',\n",
       " 'InternationalMovies',\n",
       " 'Action&Adventure',\n",
       " 'IndependentMovies',\n",
       " 'Sci-Fi&Fantasy',\n",
       " 'Dramas',\n",
       " 'Thrillers',\n",
       " 'Dramas',\n",
       " 'Thrillers',\n",
       " 'Dramas',\n",
       " 'IndependentMovies',\n",
       " 'InternationalMovies',\n",
       " 'Comedies',\n",
       " 'Dramas',\n",
       " 'InternationalMovies',\n",
       " 'Dramas',\n",
       " 'InternationalMovies',\n",
       " 'RomanticMovies',\n",
       " 'Comedies',\n",
       " 'Dramas',\n",
       " 'InternationalMovies',\n",
       " 'InternationalMovies',\n",
       " 'Sci-Fi&Fantasy',\n",
       " 'Thrillers',\n",
       " 'Dramas',\n",
       " 'InternationalMovies',\n",
       " 'Music&Musicals',\n",
       " 'Dramas',\n",
       " 'IndependentMovies',\n",
       " 'InternationalMovies',\n",
       " 'Action&Adventure',\n",
       " 'ClassicMovies',\n",
       " 'Dramas',\n",
       " 'Dramas',\n",
       " 'IndependentMovies',\n",
       " 'Comedies',\n",
       " 'Dramas',\n",
       " 'InternationalMovies',\n",
       " 'Dramas',\n",
       " 'InternationalMovies',\n",
       " 'ClassicMovies',\n",
       " 'Dramas',\n",
       " 'LGBTQMovies',\n",
       " 'Dramas',\n",
       " 'Thrillers',\n",
       " 'Children&FamilyMovies',\n",
       " 'Dramas',\n",
       " 'Dramas',\n",
       " 'Action&Adventure',\n",
       " 'Dramas',\n",
       " 'Action&Adventure',\n",
       " 'ClassicMovies',\n",
       " 'Comedies',\n",
       " 'Comedies',\n",
       " 'Dramas',\n",
       " 'RomanticMovies',\n",
       " 'Children&FamilyMovies',\n",
       " 'Dramas',\n",
       " 'InternationalMovies',\n",
       " 'Comedies',\n",
       " 'IndependentMovies',\n",
       " 'InternationalMovies',\n",
       " 'Dramas',\n",
       " 'IndependentMovies',\n",
       " 'InternationalMovies',\n",
       " 'Thrillers',\n",
       " 'Dramas',\n",
       " 'RomanticMovies',\n",
       " 'Dramas',\n",
       " 'Thrillers',\n",
       " 'HorrorMovies',\n",
       " 'InternationalMovies',\n",
       " 'Comedies',\n",
       " 'Dramas',\n",
       " 'InternationalMovies',\n",
       " 'Dramas',\n",
       " 'InternationalMovies',\n",
       " 'HorrorMovies',\n",
       " 'InternationalMovies',\n",
       " 'Dramas',\n",
       " 'IndependentMovies',\n",
       " 'Thrillers',\n",
       " 'CultMovies',\n",
       " 'Dramas',\n",
       " 'Thrillers',\n",
       " 'Dramas',\n",
       " 'InternationalMovies',\n",
       " 'Comedies',\n",
       " 'Dramas',\n",
       " 'InternationalMovies',\n",
       " 'Comedies',\n",
       " 'Dramas',\n",
       " 'InternationalMovies',\n",
       " 'Action&Adventure',\n",
       " 'InternationalMovies',\n",
       " 'RomanticMovies',\n",
       " 'Action&Adventure',\n",
       " 'Dramas',\n",
       " 'InternationalMovies',\n",
       " 'Dramas',\n",
       " 'InternationalMovies',\n",
       " 'Music&Musicals',\n",
       " 'Dramas',\n",
       " 'InternationalMovies',\n",
       " 'Dramas',\n",
       " 'Music&Musicals',\n",
       " 'RomanticMovies',\n",
       " 'Children&FamilyMovies',\n",
       " 'Dramas',\n",
       " 'IndependentMovies',\n",
       " 'Comedies',\n",
       " 'CultMovies',\n",
       " 'Dramas',\n",
       " 'Dramas',\n",
       " 'InternationalMovies',\n",
       " 'Music&Musicals',\n",
       " 'Children&FamilyMovies',\n",
       " 'Dramas',\n",
       " 'Dramas',\n",
       " 'ClassicMovies',\n",
       " 'Dramas',\n",
       " 'InternationalMovies',\n",
       " 'Dramas',\n",
       " 'InternationalMovies',\n",
       " 'Sci-Fi&Fantasy',\n",
       " 'InternationalMovies',\n",
       " 'Thrillers',\n",
       " 'Dramas',\n",
       " 'IndependentMovies',\n",
       " 'InternationalMovies',\n",
       " 'Action&Adventure',\n",
       " 'CultMovies',\n",
       " 'Sci-Fi&Fantasy',\n",
       " 'Action&Adventure',\n",
       " 'Sci-Fi&Fantasy',\n",
       " 'Comedies',\n",
       " 'InternationalMovies',\n",
       " 'Dramas',\n",
       " 'LGBTQMovies',\n",
       " 'Dramas',\n",
       " 'InternationalMovies',\n",
       " 'Dramas',\n",
       " 'IndependentMovies',\n",
       " 'Action&Adventure',\n",
       " 'ClassicMovies',\n",
       " 'Sci-Fi&Fantasy',\n",
       " 'Comedies',\n",
       " 'InternationalMovies',\n",
       " 'RomanticMovies',\n",
       " 'Comedies',\n",
       " 'InternationalMovies',\n",
       " 'RomanticMovies',\n",
       " 'Dramas',\n",
       " 'IndependentMovies',\n",
       " 'Dramas',\n",
       " 'IndependentMovies',\n",
       " 'InternationalMovies',\n",
       " 'ClassicMovies',\n",
       " 'Dramas',\n",
       " 'IndependentMovies',\n",
       " 'Dramas',\n",
       " 'Faith&Spirituality',\n",
       " 'Dramas',\n",
       " 'Comedies',\n",
       " 'Dramas',\n",
       " 'InternationalMovies',\n",
       " 'Dramas',\n",
       " 'InternationalMovies',\n",
       " 'ClassicMovies',\n",
       " 'Dramas',\n",
       " 'RomanticMovies',\n",
       " 'Dramas',\n",
       " 'InternationalMovies',\n",
       " 'Thrillers',\n",
       " 'Action&Adventure',\n",
       " 'Dramas',\n",
       " 'InternationalMovies',\n",
       " 'Comedies',\n",
       " 'HorrorMovies',\n",
       " 'IndependentMovies',\n",
       " 'Action&Adventure',\n",
       " 'Dramas',\n",
       " 'InternationalMovies',\n",
       " 'Action&Adventure',\n",
       " 'HorrorMovies',\n",
       " 'Sci-Fi&Fantasy',\n",
       " 'Dramas',\n",
       " 'IndependentMovies',\n",
       " 'InternationalMovies',\n",
       " 'Dramas',\n",
       " 'InternationalMovies',\n",
       " 'Action&Adventure',\n",
       " 'Dramas',\n",
       " 'InternationalMovies',\n",
       " 'Dramas',\n",
       " 'InternationalMovies',\n",
       " 'RomanticMovies',\n",
       " 'Action&Adventure',\n",
       " 'Comedies',\n",
       " 'InternationalMovies',\n",
       " 'Children&FamilyMovies',\n",
       " 'ClassicMovies',\n",
       " 'Comedies',\n",
       " 'Dramas',\n",
       " 'Dramas',\n",
       " 'InternationalMovies',\n",
       " 'Comedies',\n",
       " 'HorrorMovies',\n",
       " 'Dramas',\n",
       " 'Action&Adventure',\n",
       " 'Comedies',\n",
       " 'CultMovies',\n",
       " 'Dramas',\n",
       " 'IndependentMovies',\n",
       " 'InternationalMovies',\n",
       " 'Dramas',\n",
       " 'IndependentMovies',\n",
       " 'Action&Adventure',\n",
       " 'Comedies',\n",
       " 'Comedies',\n",
       " 'Dramas',\n",
       " 'IndependentMovies',\n",
       " 'ClassicMovies',\n",
       " 'Dramas',\n",
       " 'Comedies',\n",
       " 'CultMovies',\n",
       " 'Dramas',\n",
       " 'Dramas',\n",
       " 'InternationalMovies',\n",
       " 'Comedies',\n",
       " 'CultMovies',\n",
       " 'Action&Adventure',\n",
       " 'Children&FamilyMovies',\n",
       " 'ClassicMovies',\n",
       " 'HorrorMovies',\n",
       " 'Thrillers',\n",
       " 'Dramas',\n",
       " 'IndependentMovies',\n",
       " 'InternationalMovies',\n",
       " 'ClassicMovies',\n",
       " 'Comedies',\n",
       " 'Dramas',\n",
       " 'Dramas',\n",
       " 'RomanticMovies',\n",
       " 'Dramas',\n",
       " 'InternationalMovies',\n",
       " 'Dramas',\n",
       " 'IndependentMovies',\n",
       " 'LGBTQMovies',\n",
       " 'Action&Adventure',\n",
       " 'Dramas',\n",
       " 'InternationalMovies',\n",
       " 'InternationalMovies',\n",
       " 'Thrillers',\n",
       " 'Dramas',\n",
       " 'InternationalMovies',\n",
       " 'Music&Musicals',\n",
       " 'Dramas',\n",
       " 'IndependentMovies',\n",
       " 'InternationalMovies',\n",
       " 'Dramas',\n",
       " 'IndependentMovies',\n",
       " 'InternationalMovies',\n",
       " 'Thrillers',\n",
       " 'Comedies',\n",
       " 'InternationalMovies',\n",
       " 'Music&Musicals',\n",
       " 'Comedies',\n",
       " 'Dramas',\n",
       " 'Action&Adventure',\n",
       " 'Comedies',\n",
       " 'CultMovies',\n",
       " 'Children&FamilyMovies',\n",
       " 'Dramas',\n",
       " 'SportsMovies',\n",
       " 'Dramas',\n",
       " 'IndependentMovies',\n",
       " 'InternationalMovies',\n",
       " 'Dramas',\n",
       " 'IndependentMovies',\n",
       " 'InternationalMovies',\n",
       " 'Dramas',\n",
       " 'IndependentMovies',\n",
       " 'LGBTQMovies',\n",
       " 'ClassicMovies',\n",
       " 'Dramas',\n",
       " 'SportsMovies',\n",
       " 'ClassicMovies',\n",
       " 'Dramas',\n",
       " 'InternationalMovies',\n",
       " 'Dramas',\n",
       " 'IndependentMovies',\n",
       " 'InternationalMovies',\n",
       " 'Dramas',\n",
       " 'HorrorMovies',\n",
       " 'Thrillers',\n",
       " 'Children&FamilyMovies',\n",
       " 'Children&FamilyMovies',\n",
       " 'Dramas',\n",
       " 'IndependentMovies',\n",
       " 'Dramas',\n",
       " 'InternationalMovies',\n",
       " 'RomanticMovies',\n",
       " 'Dramas',\n",
       " 'Faith&Spirituality',\n",
       " 'Dramas',\n",
       " 'InternationalMovies',\n",
       " 'Action&Adventure',\n",
       " 'ClassicMovies',\n",
       " 'Comedies',\n",
       " 'Comedies',\n",
       " 'Dramas',\n",
       " 'IndependentMovies',\n",
       " 'Thrillers',\n",
       " 'Comedies',\n",
       " 'InternationalMovies',\n",
       " 'RomanticMovies',\n",
       " 'Children&FamilyMovies',\n",
       " 'Dramas',\n",
       " 'Action&Adventure',\n",
       " 'ClassicMovies',\n",
       " 'Comedies',\n",
       " 'ClassicMovies',\n",
       " 'CultMovies',\n",
       " 'HorrorMovies',\n",
       " 'Comedies',\n",
       " 'InternationalMovies',\n",
       " 'Comedies',\n",
       " 'Dramas',\n",
       " 'InternationalMovies',\n",
       " 'Action&Adventure',\n",
       " 'Dramas',\n",
       " 'Dramas',\n",
       " 'IndependentMovies',\n",
       " 'Dramas',\n",
       " 'IndependentMovies',\n",
       " 'InternationalMovies',\n",
       " 'Dramas',\n",
       " 'Thrillers',\n",
       " 'Comedies',\n",
       " 'InternationalMovies',\n",
       " 'RomanticMovies',\n",
       " 'Action&Adventure',\n",
       " 'Sci-Fi&Fantasy',\n",
       " 'Dramas',\n",
       " 'IndependentMovies',\n",
       " 'Dramas',\n",
       " 'Thrillers',\n",
       " 'Action&Adventure',\n",
       " 'ClassicMovies',\n",
       " 'Dramas',\n",
       " 'Sci-Fi&Fantasy',\n",
       " 'Children&FamilyMovies',\n",
       " 'Comedies',\n",
       " 'Children&FamilyMovies',\n",
       " 'Comedies',\n",
       " 'Dramas',\n",
       " 'IndependentMovies',\n",
       " 'InternationalMovies',\n",
       " 'Dramas',\n",
       " 'IndependentMovies',\n",
       " 'Dramas',\n",
       " 'Dramas',\n",
       " 'InternationalMovies',\n",
       " 'Comedies',\n",
       " 'Dramas',\n",
       " 'IndependentMovies',\n",
       " 'Comedies',\n",
       " 'Dramas',\n",
       " 'IndependentMovies',\n",
       " 'Action&Adventure',\n",
       " 'Dramas',\n",
       " 'InternationalMovies',\n",
       " 'Action&Adventure',\n",
       " 'Comedies',\n",
       " 'InternationalMovies',\n",
       " 'ClassicMovies',\n",
       " 'Dramas',\n",
       " 'IndependentMovies',\n",
       " 'Dramas',\n",
       " 'InternationalMovies',\n",
       " 'Music&Musicals',\n",
       " 'Comedies',\n",
       " 'CultMovies',\n",
       " 'Dramas',\n",
       " 'IndependentMovies',\n",
       " 'LGBTQMovies',\n",
       " 'Dramas',\n",
       " 'IndependentMovies',\n",
       " 'RomanticMovies',\n",
       " 'Dramas',\n",
       " 'InternationalMovies',\n",
       " 'LGBTQMovies',\n",
       " 'Dramas',\n",
       " 'Thrillers',\n",
       " 'Dramas',\n",
       " 'InternationalMovies',\n",
       " 'Thrillers',\n",
       " 'Children&FamilyMovies',\n",
       " 'ClassicMovies',\n",
       " 'Dramas',\n",
       " 'Comedies',\n",
       " 'InternationalMovies',\n",
       " 'InternationalMovies',\n",
       " 'Thrillers',\n",
       " 'Comedies',\n",
       " 'Dramas',\n",
       " 'InternationalMovies',\n",
       " 'Action&Adventure',\n",
       " 'Children&FamilyMovies',\n",
       " 'CultMovies',\n",
       " 'Dramas',\n",
       " 'IndependentMovies',\n",
       " 'Dramas',\n",
       " 'InternationalMovies',\n",
       " 'Thrillers',\n",
       " 'Dramas',\n",
       " 'IndependentMovies',\n",
       " 'Thrillers',\n",
       " 'Dramas',\n",
       " 'IndependentMovies',\n",
       " 'Dramas',\n",
       " 'IndependentMovies',\n",
       " 'InternationalMovies',\n",
       " 'Dramas',\n",
       " 'InternationalMovies',\n",
       " 'Thrillers',\n",
       " 'Comedies',\n",
       " 'Dramas',\n",
       " 'InternationalMovies',\n",
       " 'Comedies',\n",
       " 'Dramas',\n",
       " 'InternationalMovies',\n",
       " 'Dramas',\n",
       " 'RomanticMovies',\n",
       " 'Dramas',\n",
       " 'InternationalMovies',\n",
       " 'RomanticMovies',\n",
       " 'Dramas',\n",
       " 'InternationalMovies',\n",
       " 'Thrillers',\n",
       " 'Dramas',\n",
       " 'IndependentMovies',\n",
       " 'InternationalMovies',\n",
       " 'Action&Adventure',\n",
       " 'Comedies',\n",
       " 'InternationalMovies',\n",
       " 'ClassicMovies',\n",
       " 'CultMovies',\n",
       " 'HorrorMovies',\n",
       " 'Dramas',\n",
       " 'InternationalMovies',\n",
       " 'Music&Musicals',\n",
       " 'Dramas',\n",
       " 'InternationalMovies',\n",
       " 'RomanticMovies',\n",
       " 'Dramas',\n",
       " 'InternationalMovies',\n",
       " 'SportsMovies',\n",
       " 'Documentaries',\n",
       " 'InternationalMovies',\n",
       " 'SportsMovies',\n",
       " 'Dramas',\n",
       " 'InternationalMovies',\n",
       " 'Music&Musicals',\n",
       " 'Dramas',\n",
       " 'InternationalMovies',\n",
       " 'Dramas',\n",
       " 'IndependentMovies',\n",
       " 'InternationalMovies',\n",
       " 'Dramas',\n",
       " 'InternationalMovies',\n",
       " 'RomanticMovies',\n",
       " 'Dramas',\n",
       " 'InternationalMovies',\n",
       " 'Dramas',\n",
       " ...]"
      ]
     },
     "execution_count": 26,
     "metadata": {},
     "output_type": "execute_result"
    }
   ],
   "source": [
    "gen"
   ]
  },
  {
   "cell_type": "code",
   "execution_count": 29,
   "metadata": {},
   "outputs": [
    {
     "data": {
      "image/png": "[encoded data removed]",
      "text/plain": [
       "<Figure size 1300x1300 with 1 Axes>"
      ]
     },
     "metadata": {},
     "output_type": "display_data"
    }
   ],
   "source": [
    "# Create wordcloud for genres to see what kinds of genres are dominated\n",
    "from wordcloud import WordCloud, STOPWORDS, ImageColorGenerator\n",
    "from PIL import Image\n",
    "\n",
    "text = list(set(gen))\n",
    "plt.rcParams['figure.figsize'] = (13, 13)\n",
    "\n",
    "# assigning shape to the word cloud\n",
    "mask = np.array(Image.open('./mask_image/star.png'))\n",
    "wordcloud = WordCloud(max_words=1000000,background_color=\"white\",mask=mask).generate(str(text))\n",
    "\n",
    "plt.imshow(wordcloud,interpolation=\"bilinear\")\n",
    "plt.axis(\"off\")\n",
    "plt.show()"
   ]
  },
  {
   "cell_type": "code",
   "execution_count": 31,
   "metadata": {},
   "outputs": [
    {
     "name": "stderr",
     "output_type": "stream",
     "text": [
      "C:\\Users\\PC\\AppData\\Local\\Temp\\ipykernel_60640\\3580691374.py:11: UserWarning:\n",
      "\n",
      "FixedFormatter should only be used together with FixedLocator\n",
      "\n"
     ]
    },
    {
     "data": {
      "text/plain": [
       "Text(0.5, 1.0, 'Genres')"
      ]
     },
     "execution_count": 31,
     "metadata": {},
     "output_type": "execute_result"
    },
    {
     "data": {
      "image/png": "[encoded data removed]",
      "text/plain": [
       "<Figure size 1300x1300 with 1 Axes>"
      ]
     },
     "metadata": {},
     "output_type": "display_data"
    },
    {
     "data": {
      "text/plain": [
       "<Figure size 1000x1000 with 0 Axes>"
      ]
     },
     "metadata": {},
     "output_type": "display_data"
    }
   ],
   "source": [
    "# Lolipop plots to see the counts of movies based on genres\n",
    "g={k: v for k, v in sorted(g.items(), key=lambda item: item[1], reverse= True)}\n",
    "\n",
    "fig, ax = plt.subplots()\n",
    "\n",
    "fig = plt.figure(figsize = (10, 10))\n",
    "x=list(g.keys())\n",
    "y=list(g.values())\n",
    "ax.vlines(x, ymin=0, ymax=y, color='green')\n",
    "ax.plot(x,y, \"o\", color='maroon')\n",
    "ax.set_xticklabels(x, rotation = 90)\n",
    "ax.set_ylabel(\"Count of movies\")\n",
    "# set a title\n",
    "ax.set_title(\"Genres\")"
   ]
  },
  {
   "cell_type": "markdown",
   "metadata": {},
   "source": [
    "## Content-Based Recommendation System\n",
    "- Content-Based Filtering: 사용자가 소비한 아이템에 대해 아이템의 내용(content)이 비슷하거나 특별한 관계가 있는 다른 아이템을 추천하는 방법\n",
    "- using TF-IDF(Term Frequency-Inverse Document Frequency) scores and\n",
    "- consine similarity\n",
    "\n",
    "1) Use 'description' to recommend similar movies or TV shows\n",
    "2) Strings handling (stopwords, empty string, etc.)\n",
    "3) Create TF-IDF matrix \n",
    "4) Use consine similarity score to recommend"
   ]
  },
  {
   "cell_type": "code",
   "execution_count": 49,
   "metadata": {},
   "outputs": [
    {
     "data": {
      "text/plain": [
       "(4069, 10226)"
      ]
     },
     "execution_count": 49,
     "metadata": {},
     "output_type": "execute_result"
    }
   ],
   "source": [
    "from sklearn.feature_extraction.text import TfidfVectorizer\n",
    "\n",
    "#removing stopwords\n",
    "tfidf = TfidfVectorizer(stop_words='english')\n",
    "\n",
    "#Construct the required TF-IDF matrix by fitting and transforming the data\n",
    "tfidf_matrix = tfidf.fit_transform(netflix_joint_df['description'])\n",
    "\n",
    "#Output the shape of tfidf_matrix\n",
    "tfidf_matrix.shape"
   ]
  },
  {
   "cell_type": "code",
   "execution_count": 51,
   "metadata": {},
   "outputs": [
    {
     "data": {
      "text/plain": [
       "(4069, 4069)"
      ]
     },
     "execution_count": 51,
     "metadata": {},
     "output_type": "execute_result"
    }
   ],
   "source": [
    "from sklearn.metrics.pairwise import linear_kernel\n",
    "\n",
    "# Compute the cosine similarity matrix\n",
    "cosine_sim = linear_kernel(tfidf_matrix, tfidf_matrix)\n",
    "cosine_sim.shape"
   ]
  },
  {
   "cell_type": "code",
   "execution_count": 64,
   "metadata": {},
   "outputs": [],
   "source": [
    "indices = pd.Series(netflix_joint_df.index, index=netflix_joint_df['title_x']).drop_duplicates()\n",
    "\n",
    "def get_recommendations(title_x, cosine_sim=cosine_sim):\n",
    "    idx = indices[title_x]\n",
    "\n",
    "    # Get the pairwsie similarity scores of all movies with that movie\n",
    "    sim_scores = list(enumerate(cosine_sim[idx]))\n",
    "\n",
    "    # Sort the movies based on the similarity scores\n",
    "    sim_scores = sorted(sim_scores, key=lambda x: x[1], reverse=True)\n",
    "\n",
    "    # Get the scores of the 10 most similar movies\n",
    "    sim_scores = sim_scores[1:11]\n",
    "\n",
    "    # Get the movie indices\n",
    "    movie_indices = [i[0] for i in sim_scores]\n",
    "\n",
    "    # Return the top 10 most similar movies\n",
    "    return netflix_joint_df[['title_x', 'director_x', 'listed_in', 'avg_vote']].iloc[movie_indices].sort_values('avg_vote', ascending = False)"
   ]
  },
  {
   "cell_type": "code",
   "execution_count": 65,
   "metadata": {},
   "outputs": [
    {
     "data": {
      "text/html": [
       "<div>\n",
       "<style scoped>\n",
       "    .dataframe tbody tr th:only-of-type {\n",
       "        vertical-align: middle;\n",
       "    }\n",
       "\n",
       "    .dataframe tbody tr th {\n",
       "        vertical-align: top;\n",
       "    }\n",
       "\n",
       "    .dataframe thead th {\n",
       "        text-align: right;\n",
       "    }\n",
       "</style>\n",
       "<table border=\"1\" class=\"dataframe\">\n",
       "  <thead>\n",
       "    <tr style=\"text-align: right;\">\n",
       "      <th></th>\n",
       "      <th>title_x</th>\n",
       "      <th>director_x</th>\n",
       "      <th>listed_in</th>\n",
       "      <th>avg_vote</th>\n",
       "    </tr>\n",
       "  </thead>\n",
       "  <tbody>\n",
       "    <tr>\n",
       "      <th>388</th>\n",
       "      <td>Tottaa Pataaka Item Maal</td>\n",
       "      <td>Aditya Kripalani</td>\n",
       "      <td>Dramas, Independent Movies, International Movies</td>\n",
       "      <td>8.0</td>\n",
       "    </tr>\n",
       "    <tr>\n",
       "      <th>2455</th>\n",
       "      <td>Tallulah</td>\n",
       "      <td>Sian Heder</td>\n",
       "      <td>Dramas, Independent Movies</td>\n",
       "      <td>6.7</td>\n",
       "    </tr>\n",
       "    <tr>\n",
       "      <th>983</th>\n",
       "      <td>Wira</td>\n",
       "      <td>Adrian Teh</td>\n",
       "      <td>Action &amp; Adventure, Dramas, International Movies</td>\n",
       "      <td>6.3</td>\n",
       "    </tr>\n",
       "    <tr>\n",
       "      <th>4069</th>\n",
       "      <td>Young Adult</td>\n",
       "      <td>Jason Reitman</td>\n",
       "      <td>Comedies, Dramas, Independent Movies</td>\n",
       "      <td>6.2</td>\n",
       "    </tr>\n",
       "    <tr>\n",
       "      <th>304</th>\n",
       "      <td>Life of Crime</td>\n",
       "      <td>Daniel Schechter</td>\n",
       "      <td>Comedies, Independent Movies</td>\n",
       "      <td>5.8</td>\n",
       "    </tr>\n",
       "    <tr>\n",
       "      <th>197</th>\n",
       "      <td>Brick Mansions</td>\n",
       "      <td>Camille Delamarre</td>\n",
       "      <td>Action &amp; Adventure, International Movies</td>\n",
       "      <td>5.7</td>\n",
       "    </tr>\n",
       "    <tr>\n",
       "      <th>2394</th>\n",
       "      <td>3 Türken &amp; ein Baby</td>\n",
       "      <td>Sinan Akkuş</td>\n",
       "      <td>Comedies, International Movies</td>\n",
       "      <td>5.5</td>\n",
       "    </tr>\n",
       "    <tr>\n",
       "      <th>1012</th>\n",
       "      <td>The Stolen</td>\n",
       "      <td>Niall Johnson</td>\n",
       "      <td>Dramas</td>\n",
       "      <td>5.2</td>\n",
       "    </tr>\n",
       "    <tr>\n",
       "      <th>2854</th>\n",
       "      <td>Dog Eat Dog</td>\n",
       "      <td>Paul Schrader</td>\n",
       "      <td>Dramas, Thrillers</td>\n",
       "      <td>4.7</td>\n",
       "    </tr>\n",
       "    <tr>\n",
       "      <th>3992</th>\n",
       "      <td>Two Graves</td>\n",
       "      <td>Gary Young</td>\n",
       "      <td>Thrillers</td>\n",
       "      <td>4.2</td>\n",
       "    </tr>\n",
       "  </tbody>\n",
       "</table>\n",
       "</div>"
      ],
      "text/plain": [
       "                       title_x         director_x  \\\n",
       "388   Tottaa Pataaka Item Maal   Aditya Kripalani   \n",
       "2455                  Tallulah         Sian Heder   \n",
       "983                       Wira         Adrian Teh   \n",
       "4069               Young Adult      Jason Reitman   \n",
       "304              Life of Crime   Daniel Schechter   \n",
       "197             Brick Mansions  Camille Delamarre   \n",
       "2394       3 Türken & ein Baby        Sinan Akkuş   \n",
       "1012                The Stolen      Niall Johnson   \n",
       "2854               Dog Eat Dog      Paul Schrader   \n",
       "3992                Two Graves         Gary Young   \n",
       "\n",
       "                                             listed_in  avg_vote  \n",
       "388   Dramas, Independent Movies, International Movies       8.0  \n",
       "2455                        Dramas, Independent Movies       6.7  \n",
       "983   Action & Adventure, Dramas, International Movies       6.3  \n",
       "4069              Comedies, Dramas, Independent Movies       6.2  \n",
       "304                       Comedies, Independent Movies       5.8  \n",
       "197           Action & Adventure, International Movies       5.7  \n",
       "2394                    Comedies, International Movies       5.5  \n",
       "1012                                            Dramas       5.2  \n",
       "2854                                 Dramas, Thrillers       4.7  \n",
       "3992                                         Thrillers       4.2  "
      ]
     },
     "execution_count": 65,
     "metadata": {},
     "output_type": "execute_result"
    }
   ],
   "source": [
    "get_recommendations(\"Pulp Fiction\")"
   ]
  }
 ],
 "metadata": {
  "kernelspec": {
   "display_name": "Python 3",
   "language": "python",
   "name": "python3"
  },
  "language_info": {
   "codemirror_mode": {
    "name": "ipython",
    "version": 3
   },
   "file_extension": ".py",
   "mimetype": "text/x-python",
   "name": "python",
   "nbconvert_exporter": "python",
   "pygments_lexer": "ipython3",
   "version": "3.10.5"
  }
 },
 "nbformat": 4,
 "nbformat_minor": 2
}
